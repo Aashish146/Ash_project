{
 "cells": [
  {
   "cell_type": "code",
   "execution_count": 1,
   "metadata": {},
   "outputs": [],
   "source": [
    "import pandas as pd\n",
    "import numpy as np"
   ]
  },
  {
   "cell_type": "code",
   "execution_count": 3,
   "metadata": {},
   "outputs": [],
   "source": [
    "file_train=r'/Users/Dell/Documents/loan_data_train.csv'\n",
    "file_test=r'/Users/Dell/Documents/loan_data_test.csv'\n",
    "\n"
   ]
  },
  {
   "cell_type": "code",
   "execution_count": 4,
   "metadata": {},
   "outputs": [],
   "source": [
    "ld_train=pd.read_csv(file_train)\n",
    "ld_test=pd.read_csv(file_test)"
   ]
  },
  {
   "cell_type": "code",
   "execution_count": 5,
   "metadata": {},
   "outputs": [
    {
     "data": {
      "text/plain": [
       "2200"
      ]
     },
     "execution_count": 5,
     "metadata": {},
     "output_type": "execute_result"
    }
   ],
   "source": [
    "ld_train.head()\n",
    "len(ld_train)"
   ]
  },
  {
   "cell_type": "code",
   "execution_count": 6,
   "metadata": {},
   "outputs": [],
   "source": [
    "ld_train['data']='train'\n",
    "ld_test['data']='test'"
   ]
  },
  {
   "cell_type": "code",
   "execution_count": 7,
   "metadata": {},
   "outputs": [
    {
     "data": {
      "text/plain": [
       "(2200, 16)"
      ]
     },
     "execution_count": 7,
     "metadata": {},
     "output_type": "execute_result"
    }
   ],
   "source": [
    "ld_test['Interest.Rate']=np.nan\n",
    "ld_test.head()\n",
    "ld_test.shape\n",
    "ld_train.shape"
   ]
  },
  {
   "cell_type": "code",
   "execution_count": 8,
   "metadata": {},
   "outputs": [],
   "source": [
    "ld_all=pd.concat([ld_train,ld_test],axis=0)\n"
   ]
  },
  {
   "cell_type": "code",
   "execution_count": 9,
   "metadata": {},
   "outputs": [
    {
     "data": {
      "text/plain": [
       "(2500, 16)"
      ]
     },
     "execution_count": 9,
     "metadata": {},
     "output_type": "execute_result"
    }
   ],
   "source": [
    "ld_all.shape"
   ]
  },
  {
   "cell_type": "code",
   "execution_count": 10,
   "metadata": {},
   "outputs": [
    {
     "data": {
      "text/plain": [
       "Amount.Funded.By.Investors         object\n",
       "Amount.Requested                   object\n",
       "Debt.To.Income.Ratio               object\n",
       "Employment.Length                  object\n",
       "FICO.Range                         object\n",
       "Home.Ownership                     object\n",
       "ID                                float64\n",
       "Inquiries.in.the.Last.6.Months    float64\n",
       "Interest.Rate                      object\n",
       "Loan.Length                        object\n",
       "Loan.Purpose                       object\n",
       "Monthly.Income                    float64\n",
       "Open.CREDIT.Lines                  object\n",
       "Revolving.CREDIT.Balance           object\n",
       "State                              object\n",
       "data                               object\n",
       "dtype: object"
      ]
     },
     "execution_count": 10,
     "metadata": {},
     "output_type": "execute_result"
    }
   ],
   "source": [
    "ld_all.dtypes"
   ]
  },
  {
   "cell_type": "code",
   "execution_count": 11,
   "metadata": {},
   "outputs": [],
   "source": [
    "ld_all.drop(['ID','Amount.Funded.By.Investors'],axis=1,inplace=True)"
   ]
  },
  {
   "cell_type": "code",
   "execution_count": 12,
   "metadata": {},
   "outputs": [
    {
     "data": {
      "text/plain": [
       "Index(['Amount.Requested', 'Debt.To.Income.Ratio', 'Employment.Length',\n",
       "       'FICO.Range', 'Home.Ownership', 'Interest.Rate', 'Loan.Length',\n",
       "       'Loan.Purpose', 'Open.CREDIT.Lines', 'Revolving.CREDIT.Balance',\n",
       "       'State', 'data'],\n",
       "      dtype='object')"
      ]
     },
     "execution_count": 12,
     "metadata": {},
     "output_type": "execute_result"
    }
   ],
   "source": [
    "ld_all.select_dtypes(['object']).columns"
   ]
  },
  {
   "cell_type": "code",
   "execution_count": 13,
   "metadata": {},
   "outputs": [],
   "source": [
    "for col in ['Debt.To.Income.Ratio','Interest.Rate']:\n",
    "    ld_all[col]=ld_all[col].str.replace('%','')"
   ]
  },
  {
   "cell_type": "code",
   "execution_count": 14,
   "metadata": {},
   "outputs": [],
   "source": [
    "for col in ['Debt.To.Income.Ratio','Amount.Requested','Interest.Rate','Open.CREDIT.Lines','Revolving.CREDIT.Balance']:\n",
    "    ld_all[col]=pd.to_numeric(ld_all[col],errors='coerce')"
   ]
  },
  {
   "cell_type": "code",
   "execution_count": 15,
   "metadata": {},
   "outputs": [
    {
     "data": {
      "text/plain": [
       "array(['5 years', '4 years', '< 1 year', '10+ years', nan, '2 years',\n",
       "       '8 years', '1 year', '6 years', '7 years', '3 years', '9 years',\n",
       "       '.'], dtype=object)"
      ]
     },
     "execution_count": 15,
     "metadata": {},
     "output_type": "execute_result"
    }
   ],
   "source": [
    "ld_all['Employment.Length'].unique()"
   ]
  },
  {
   "cell_type": "code",
   "execution_count": 16,
   "metadata": {},
   "outputs": [],
   "source": [
    "ld_all['Employment.Length']=ld_all['Employment.Length'].str.replace('years','')\n",
    "ld_all['Employment.Length']=ld_all['Employment.Length'].str.replace('year','')\n",
    "ld_all['Employment.Length']=np.where(ld_all['Employment.Length'].str[:2]=='10',10,ld_all['Employment.Length'])\n",
    "ld_all['Employment.Length']=np.where(ld_all['Employment.Length'].str[0]=='<','',ld_all['Employment.Length'])\n",
    "ld_all['Employment.Length']=pd.to_numeric(ld_all['Employment.Length'],errors='coerce')"
   ]
  },
  {
   "cell_type": "code",
   "execution_count": 17,
   "metadata": {},
   "outputs": [
    {
     "data": {
      "text/plain": [
       "dtype('float64')"
      ]
     },
     "execution_count": 17,
     "metadata": {},
     "output_type": "execute_result"
    }
   ],
   "source": [
    "ld_all['Employment.Length'].dtypes"
   ]
  },
  {
   "cell_type": "code",
   "execution_count": 18,
   "metadata": {},
   "outputs": [
    {
     "data": {
      "text/plain": [
       "Amount.Requested                  float64\n",
       "Debt.To.Income.Ratio              float64\n",
       "Employment.Length                 float64\n",
       "FICO.Range                         object\n",
       "Home.Ownership                     object\n",
       "Inquiries.in.the.Last.6.Months    float64\n",
       "Interest.Rate                     float64\n",
       "Loan.Length                        object\n",
       "Loan.Purpose                       object\n",
       "Monthly.Income                    float64\n",
       "Open.CREDIT.Lines                 float64\n",
       "Revolving.CREDIT.Balance          float64\n",
       "State                              object\n",
       "data                               object\n",
       "dtype: object"
      ]
     },
     "execution_count": 18,
     "metadata": {},
     "output_type": "execute_result"
    }
   ],
   "source": [
    "ld_all.dtypes"
   ]
  },
  {
   "cell_type": "code",
   "execution_count": 19,
   "metadata": {},
   "outputs": [
    {
     "data": {
      "text/plain": [
       "array(['720-724', '710-714', '690-694', '730-734', '785-789', '665-669',\n",
       "       '735-739', '740-744', '765-769', '800-804', '680-684', '745-749',\n",
       "       '660-664', '670-674', '705-709', '695-699', '715-719', '760-764',\n",
       "       '685-689', '755-759', '675-679', '775-779', '725-729', '640-644',\n",
       "       '790-794', '770-774', '700-704', '750-754', '805-809', '810-814',\n",
       "       '815-819', '780-784', '820-824', '795-799', '645-649', '655-659',\n",
       "       '830-834', '650-654'], dtype=object)"
      ]
     },
     "execution_count": 19,
     "metadata": {},
     "output_type": "execute_result"
    }
   ],
   "source": [
    "ld_all['FICO.Range'].unique()"
   ]
  },
  {
   "cell_type": "code",
   "execution_count": 20,
   "metadata": {},
   "outputs": [],
   "source": [
    "k=ld_all['FICO.Range'].str.split('-',expand=True).astype(float)\n"
   ]
  },
  {
   "cell_type": "code",
   "execution_count": 21,
   "metadata": {},
   "outputs": [],
   "source": [
    "ld_all['fico']=0.5*(k[0]+k[1])"
   ]
  },
  {
   "cell_type": "code",
   "execution_count": 22,
   "metadata": {},
   "outputs": [],
   "source": [
    "del ld_all['FICO.Range']"
   ]
  },
  {
   "cell_type": "code",
   "execution_count": 23,
   "metadata": {},
   "outputs": [
    {
     "data": {
      "text/plain": [
       "Index(['Home.Ownership', 'Loan.Length', 'Loan.Purpose', 'State', 'data'], dtype='object')"
      ]
     },
     "execution_count": 23,
     "metadata": {},
     "output_type": "execute_result"
    }
   ],
   "source": [
    "cat_cols=ld_all.select_dtypes(['object']).columns\n",
    "cat_cols"
   ]
  },
  {
   "cell_type": "code",
   "execution_count": 24,
   "metadata": {},
   "outputs": [
    {
     "data": {
      "text/plain": [
       "Index(['Home.Ownership', 'Loan.Length', 'Loan.Purpose', 'State'], dtype='object')"
      ]
     },
     "execution_count": 24,
     "metadata": {},
     "output_type": "execute_result"
    }
   ],
   "source": [
    "cat_cols=cat_cols[:-1]\n",
    "cat_cols"
   ]
  },
  {
   "cell_type": "code",
   "execution_count": 25,
   "metadata": {},
   "outputs": [
    {
     "name": "stdout",
     "output_type": "stream",
     "text": [
      "Home.Ownership\n",
      "Loan.Length\n",
      "Loan.Purpose\n",
      "State\n"
     ]
    }
   ],
   "source": [
    "for col in cat_cols:\n",
    "    freqs=ld_all[col].value_counts()\n",
    "    k=freqs.index[freqs>20][:-1]\n",
    "    for cat in k:\n",
    "        name=col+'_'+cat\n",
    "        ld_all[name]=(ld_all[col]==cat).astype(int)\n",
    "        \n",
    "    del ld_all[col]\n",
    "    print(col)\n",
    "    \n",
    "    "
   ]
  },
  {
   "cell_type": "code",
   "execution_count": 26,
   "metadata": {},
   "outputs": [
    {
     "data": {
      "text/html": [
       "<div>\n",
       "<style scoped>\n",
       "    .dataframe tbody tr th:only-of-type {\n",
       "        vertical-align: middle;\n",
       "    }\n",
       "\n",
       "    .dataframe tbody tr th {\n",
       "        vertical-align: top;\n",
       "    }\n",
       "\n",
       "    .dataframe thead th {\n",
       "        text-align: right;\n",
       "    }\n",
       "</style>\n",
       "<table border=\"1\" class=\"dataframe\">\n",
       "  <thead>\n",
       "    <tr style=\"text-align: right;\">\n",
       "      <th></th>\n",
       "      <th>Amount.Requested</th>\n",
       "      <th>Debt.To.Income.Ratio</th>\n",
       "      <th>Employment.Length</th>\n",
       "      <th>Inquiries.in.the.Last.6.Months</th>\n",
       "      <th>Interest.Rate</th>\n",
       "      <th>Monthly.Income</th>\n",
       "      <th>Open.CREDIT.Lines</th>\n",
       "      <th>Revolving.CREDIT.Balance</th>\n",
       "      <th>data</th>\n",
       "      <th>fico</th>\n",
       "      <th>...</th>\n",
       "      <th>State_MN</th>\n",
       "      <th>State_AL</th>\n",
       "      <th>State_MO</th>\n",
       "      <th>State_NV</th>\n",
       "      <th>State_OR</th>\n",
       "      <th>State_SC</th>\n",
       "      <th>State_WI</th>\n",
       "      <th>State_KY</th>\n",
       "      <th>State_LA</th>\n",
       "      <th>State_OK</th>\n",
       "    </tr>\n",
       "  </thead>\n",
       "  <tbody>\n",
       "    <tr>\n",
       "      <th>0</th>\n",
       "      <td>25000.0</td>\n",
       "      <td>27.56</td>\n",
       "      <td>5.0</td>\n",
       "      <td>3.0</td>\n",
       "      <td>18.49</td>\n",
       "      <td>8606.56</td>\n",
       "      <td>11.0</td>\n",
       "      <td>15210.0</td>\n",
       "      <td>train</td>\n",
       "      <td>722.0</td>\n",
       "      <td>...</td>\n",
       "      <td>0</td>\n",
       "      <td>0</td>\n",
       "      <td>0</td>\n",
       "      <td>0</td>\n",
       "      <td>0</td>\n",
       "      <td>0</td>\n",
       "      <td>0</td>\n",
       "      <td>0</td>\n",
       "      <td>0</td>\n",
       "      <td>0</td>\n",
       "    </tr>\n",
       "    <tr>\n",
       "      <th>1</th>\n",
       "      <td>19750.0</td>\n",
       "      <td>13.39</td>\n",
       "      <td>4.0</td>\n",
       "      <td>3.0</td>\n",
       "      <td>17.27</td>\n",
       "      <td>6737.50</td>\n",
       "      <td>14.0</td>\n",
       "      <td>19070.0</td>\n",
       "      <td>train</td>\n",
       "      <td>712.0</td>\n",
       "      <td>...</td>\n",
       "      <td>0</td>\n",
       "      <td>0</td>\n",
       "      <td>0</td>\n",
       "      <td>0</td>\n",
       "      <td>0</td>\n",
       "      <td>0</td>\n",
       "      <td>0</td>\n",
       "      <td>0</td>\n",
       "      <td>0</td>\n",
       "      <td>0</td>\n",
       "    </tr>\n",
       "    <tr>\n",
       "      <th>2</th>\n",
       "      <td>2100.0</td>\n",
       "      <td>3.50</td>\n",
       "      <td>NaN</td>\n",
       "      <td>1.0</td>\n",
       "      <td>14.33</td>\n",
       "      <td>1000.00</td>\n",
       "      <td>13.0</td>\n",
       "      <td>893.0</td>\n",
       "      <td>train</td>\n",
       "      <td>692.0</td>\n",
       "      <td>...</td>\n",
       "      <td>0</td>\n",
       "      <td>0</td>\n",
       "      <td>0</td>\n",
       "      <td>0</td>\n",
       "      <td>0</td>\n",
       "      <td>0</td>\n",
       "      <td>0</td>\n",
       "      <td>0</td>\n",
       "      <td>1</td>\n",
       "      <td>0</td>\n",
       "    </tr>\n",
       "    <tr>\n",
       "      <th>3</th>\n",
       "      <td>28000.0</td>\n",
       "      <td>19.62</td>\n",
       "      <td>10.0</td>\n",
       "      <td>1.0</td>\n",
       "      <td>16.29</td>\n",
       "      <td>7083.33</td>\n",
       "      <td>12.0</td>\n",
       "      <td>38194.0</td>\n",
       "      <td>train</td>\n",
       "      <td>712.0</td>\n",
       "      <td>...</td>\n",
       "      <td>0</td>\n",
       "      <td>0</td>\n",
       "      <td>0</td>\n",
       "      <td>1</td>\n",
       "      <td>0</td>\n",
       "      <td>0</td>\n",
       "      <td>0</td>\n",
       "      <td>0</td>\n",
       "      <td>0</td>\n",
       "      <td>0</td>\n",
       "    </tr>\n",
       "    <tr>\n",
       "      <th>4</th>\n",
       "      <td>24250.0</td>\n",
       "      <td>23.79</td>\n",
       "      <td>10.0</td>\n",
       "      <td>2.0</td>\n",
       "      <td>12.23</td>\n",
       "      <td>5833.33</td>\n",
       "      <td>6.0</td>\n",
       "      <td>31061.0</td>\n",
       "      <td>train</td>\n",
       "      <td>732.0</td>\n",
       "      <td>...</td>\n",
       "      <td>0</td>\n",
       "      <td>0</td>\n",
       "      <td>0</td>\n",
       "      <td>0</td>\n",
       "      <td>0</td>\n",
       "      <td>0</td>\n",
       "      <td>0</td>\n",
       "      <td>0</td>\n",
       "      <td>0</td>\n",
       "      <td>0</td>\n",
       "    </tr>\n",
       "  </tbody>\n",
       "</table>\n",
       "<p>5 rows × 51 columns</p>\n",
       "</div>"
      ],
      "text/plain": [
       "   Amount.Requested  Debt.To.Income.Ratio  Employment.Length  \\\n",
       "0           25000.0                 27.56                5.0   \n",
       "1           19750.0                 13.39                4.0   \n",
       "2            2100.0                  3.50                NaN   \n",
       "3           28000.0                 19.62               10.0   \n",
       "4           24250.0                 23.79               10.0   \n",
       "\n",
       "   Inquiries.in.the.Last.6.Months  Interest.Rate  Monthly.Income  \\\n",
       "0                             3.0          18.49         8606.56   \n",
       "1                             3.0          17.27         6737.50   \n",
       "2                             1.0          14.33         1000.00   \n",
       "3                             1.0          16.29         7083.33   \n",
       "4                             2.0          12.23         5833.33   \n",
       "\n",
       "   Open.CREDIT.Lines  Revolving.CREDIT.Balance   data   fico    ...     \\\n",
       "0               11.0                   15210.0  train  722.0    ...      \n",
       "1               14.0                   19070.0  train  712.0    ...      \n",
       "2               13.0                     893.0  train  692.0    ...      \n",
       "3               12.0                   38194.0  train  712.0    ...      \n",
       "4                6.0                   31061.0  train  732.0    ...      \n",
       "\n",
       "   State_MN  State_AL  State_MO  State_NV  State_OR  State_SC  State_WI  \\\n",
       "0         0         0         0         0         0         0         0   \n",
       "1         0         0         0         0         0         0         0   \n",
       "2         0         0         0         0         0         0         0   \n",
       "3         0         0         0         1         0         0         0   \n",
       "4         0         0         0         0         0         0         0   \n",
       "\n",
       "   State_KY  State_LA  State_OK  \n",
       "0         0         0         0  \n",
       "1         0         0         0  \n",
       "2         0         1         0  \n",
       "3         0         0         0  \n",
       "4         0         0         0  \n",
       "\n",
       "[5 rows x 51 columns]"
      ]
     },
     "execution_count": 26,
     "metadata": {},
     "output_type": "execute_result"
    }
   ],
   "source": [
    "ld_all.head()"
   ]
  },
  {
   "cell_type": "code",
   "execution_count": 27,
   "metadata": {},
   "outputs": [
    {
     "data": {
      "text/plain": [
       "Amount.Requested                   float64\n",
       "Debt.To.Income.Ratio               float64\n",
       "Employment.Length                  float64\n",
       "Inquiries.in.the.Last.6.Months     float64\n",
       "Interest.Rate                      float64\n",
       "Monthly.Income                     float64\n",
       "Open.CREDIT.Lines                  float64\n",
       "Revolving.CREDIT.Balance           float64\n",
       "data                                object\n",
       "fico                               float64\n",
       "Home.Ownership_MORTGAGE              int32\n",
       "Home.Ownership_RENT                  int32\n",
       "Loan.Length_36 months                int32\n",
       "Loan.Purpose_debt_consolidation      int32\n",
       "Loan.Purpose_credit_card             int32\n",
       "Loan.Purpose_other                   int32\n",
       "Loan.Purpose_home_improvement        int32\n",
       "Loan.Purpose_major_purchase          int32\n",
       "Loan.Purpose_small_business          int32\n",
       "Loan.Purpose_car                     int32\n",
       "Loan.Purpose_wedding                 int32\n",
       "Loan.Purpose_medical                 int32\n",
       "Loan.Purpose_moving                  int32\n",
       "State_CA                             int32\n",
       "State_NY                             int32\n",
       "State_TX                             int32\n",
       "State_FL                             int32\n",
       "State_IL                             int32\n",
       "State_GA                             int32\n",
       "State_PA                             int32\n",
       "State_NJ                             int32\n",
       "State_VA                             int32\n",
       "State_MA                             int32\n",
       "State_OH                             int32\n",
       "State_MD                             int32\n",
       "State_NC                             int32\n",
       "State_CO                             int32\n",
       "State_WA                             int32\n",
       "State_CT                             int32\n",
       "State_AZ                             int32\n",
       "State_MI                             int32\n",
       "State_MN                             int32\n",
       "State_AL                             int32\n",
       "State_MO                             int32\n",
       "State_NV                             int32\n",
       "State_OR                             int32\n",
       "State_SC                             int32\n",
       "State_WI                             int32\n",
       "State_KY                             int32\n",
       "State_LA                             int32\n",
       "State_OK                             int32\n",
       "dtype: object"
      ]
     },
     "execution_count": 27,
     "metadata": {},
     "output_type": "execute_result"
    }
   ],
   "source": [
    "ld_all.dtypes"
   ]
  },
  {
   "cell_type": "code",
   "execution_count": 28,
   "metadata": {},
   "outputs": [
    {
     "data": {
      "text/plain": [
       "Amount.Requested                     5\n",
       "Debt.To.Income.Ratio                 1\n",
       "Employment.Length                  329\n",
       "Inquiries.in.the.Last.6.Months       3\n",
       "Interest.Rate                      300\n",
       "Monthly.Income                       3\n",
       "Open.CREDIT.Lines                    9\n",
       "Revolving.CREDIT.Balance             5\n",
       "data                                 0\n",
       "fico                                 0\n",
       "Home.Ownership_MORTGAGE              0\n",
       "Home.Ownership_RENT                  0\n",
       "Loan.Length_36 months                0\n",
       "Loan.Purpose_debt_consolidation      0\n",
       "Loan.Purpose_credit_card             0\n",
       "Loan.Purpose_other                   0\n",
       "Loan.Purpose_home_improvement        0\n",
       "Loan.Purpose_major_purchase          0\n",
       "Loan.Purpose_small_business          0\n",
       "Loan.Purpose_car                     0\n",
       "Loan.Purpose_wedding                 0\n",
       "Loan.Purpose_medical                 0\n",
       "Loan.Purpose_moving                  0\n",
       "State_CA                             0\n",
       "State_NY                             0\n",
       "State_TX                             0\n",
       "State_FL                             0\n",
       "State_IL                             0\n",
       "State_GA                             0\n",
       "State_PA                             0\n",
       "State_NJ                             0\n",
       "State_VA                             0\n",
       "State_MA                             0\n",
       "State_OH                             0\n",
       "State_MD                             0\n",
       "State_NC                             0\n",
       "State_CO                             0\n",
       "State_WA                             0\n",
       "State_CT                             0\n",
       "State_AZ                             0\n",
       "State_MI                             0\n",
       "State_MN                             0\n",
       "State_AL                             0\n",
       "State_MO                             0\n",
       "State_NV                             0\n",
       "State_OR                             0\n",
       "State_SC                             0\n",
       "State_WI                             0\n",
       "State_KY                             0\n",
       "State_LA                             0\n",
       "State_OK                             0\n",
       "dtype: int64"
      ]
     },
     "execution_count": 28,
     "metadata": {},
     "output_type": "execute_result"
    }
   ],
   "source": [
    "ld_all.isnull().sum()"
   ]
  },
  {
   "cell_type": "code",
   "execution_count": 29,
   "metadata": {},
   "outputs": [],
   "source": [
    "for col in ld_all.columns:\n",
    "    if (ld_all[col].isnull().sum()>0) & (col not in ['Interest.Rate','data']):\n",
    "        ld_all.loc[ld_all[col].isnull(),col]=ld_all.loc[ld_all['data']=='train',col].mean()"
   ]
  },
  {
   "cell_type": "code",
   "execution_count": 30,
   "metadata": {},
   "outputs": [],
   "source": [
    "ld_train=ld_all[ld_all['data']=='train']\n",
    "ld_test=ld_all[ld_all['data']=='test']"
   ]
  },
  {
   "cell_type": "code",
   "execution_count": 31,
   "metadata": {},
   "outputs": [],
   "source": [
    "del ld_train['data']\n"
   ]
  },
  {
   "cell_type": "code",
   "execution_count": 32,
   "metadata": {},
   "outputs": [
    {
     "name": "stderr",
     "output_type": "stream",
     "text": [
      "C:\\Users\\Dell\\Anaconda3\\lib\\site-packages\\ipykernel_launcher.py:1: SettingWithCopyWarning: \n",
      "A value is trying to be set on a copy of a slice from a DataFrame\n",
      "\n",
      "See the caveats in the documentation: http://pandas.pydata.org/pandas-docs/stable/indexing.html#indexing-view-versus-copy\n",
      "  \"\"\"Entry point for launching an IPython kernel.\n"
     ]
    }
   ],
   "source": [
    "ld_test.drop(['data','Interest.Rate'],axis=1,inplace=True)"
   ]
  },
  {
   "cell_type": "code",
   "execution_count": 34,
   "metadata": {},
   "outputs": [
    {
     "data": {
      "text/plain": [
       "(2200, 50)"
      ]
     },
     "execution_count": 34,
     "metadata": {},
     "output_type": "execute_result"
    }
   ],
   "source": [
    "ld_train.shape"
   ]
  },
  {
   "cell_type": "code",
   "execution_count": 35,
   "metadata": {},
   "outputs": [],
   "source": [
    "from sklearn.model_selection import train_test_split, GridSearchCV"
   ]
  },
  {
   "cell_type": "code",
   "execution_count": 36,
   "metadata": {},
   "outputs": [],
   "source": [
    "ld_train1,ld_train2=train_test_split(ld_train,test_size=0.2,random_state=2)"
   ]
  },
  {
   "cell_type": "code",
   "execution_count": 37,
   "metadata": {},
   "outputs": [],
   "source": [
    "from sklearn.linear_model import LinearRegression\n",
    "from sklearn.metrics import mean_absolute_error"
   ]
  },
  {
   "cell_type": "code",
   "execution_count": 46,
   "metadata": {},
   "outputs": [],
   "source": [
    "lm=LinearRegression()"
   ]
  },
  {
   "cell_type": "code",
   "execution_count": 50,
   "metadata": {},
   "outputs": [],
   "source": [
    "x_train=ld_train1.drop(['Interest.Rate'],axis=1)\n",
    "y_train=ld_train1['Interest.Rate']"
   ]
  },
  {
   "cell_type": "code",
   "execution_count": 48,
   "metadata": {},
   "outputs": [],
   "source": [
    "x_test=ld_train2.drop(['Interest.Rate'],axis=1)\n",
    "y_test=ld_train2['Interest.Rate']"
   ]
  },
  {
   "cell_type": "code",
   "execution_count": 51,
   "metadata": {},
   "outputs": [
    {
     "data": {
      "text/plain": [
       "LinearRegression(copy_X=True, fit_intercept=True, n_jobs=1, normalize=False)"
      ]
     },
     "execution_count": 51,
     "metadata": {},
     "output_type": "execute_result"
    }
   ],
   "source": [
    "lm.fit(x_train,y_train)"
   ]
  },
  {
   "cell_type": "code",
   "execution_count": 52,
   "metadata": {},
   "outputs": [],
   "source": [
    "predict_val=lm.predict(x_test)"
   ]
  },
  {
   "cell_type": "code",
   "execution_count": 53,
   "metadata": {},
   "outputs": [],
   "source": [
    "residual=y_test-predict_val"
   ]
  },
  {
   "cell_type": "code",
   "execution_count": 55,
   "metadata": {},
   "outputs": [
    {
     "data": {
      "text/plain": [
       "2.0359227285440467"
      ]
     },
     "execution_count": 55,
     "metadata": {},
     "output_type": "execute_result"
    }
   ],
   "source": [
    "rmse=np.sqrt(np.dot(residual,residual)/len(predict_val))\n",
    "rmse"
   ]
  },
  {
   "cell_type": "code",
   "execution_count": 56,
   "metadata": {},
   "outputs": [],
   "source": [
    "x_train=ld_train.drop(['Interest.Rate'],axis=1)\n",
    "y_train=ld_train['Interest.Rate']"
   ]
  },
  {
   "cell_type": "code",
   "execution_count": 57,
   "metadata": {},
   "outputs": [
    {
     "data": {
      "text/plain": [
       "LinearRegression(copy_X=True, fit_intercept=True, n_jobs=1, normalize=False)"
      ]
     },
     "execution_count": 57,
     "metadata": {},
     "output_type": "execute_result"
    }
   ],
   "source": [
    "lm.fit(x_train,y_train)"
   ]
  },
  {
   "cell_type": "code",
   "execution_count": 60,
   "metadata": {},
   "outputs": [],
   "source": [
    "predict_ir=lm.predict(ld_test)"
   ]
  },
  {
   "cell_type": "markdown",
   "metadata": {},
   "source": [
    "# RIDGE REGRESSION"
   ]
  },
  {
   "cell_type": "code",
   "execution_count": 65,
   "metadata": {},
   "outputs": [],
   "source": [
    "from sklearn.linear_model import Ridge,Lasso\n",
    "lambdas=np.linspace(1,100,100)"
   ]
  },
  {
   "cell_type": "code",
   "execution_count": 66,
   "metadata": {},
   "outputs": [],
   "source": [
    "params={'alpha':lambdas}"
   ]
  },
  {
   "cell_type": "code",
   "execution_count": 63,
   "metadata": {},
   "outputs": [],
   "source": [
    "x_train.reset_index(inplace=True,drop=True)\n",
    "y_train.reset_index(inplace=True,drop=True)"
   ]
  },
  {
   "cell_type": "code",
   "execution_count": 67,
   "metadata": {},
   "outputs": [],
   "source": [
    "ridge=Ridge(fit_intercept=True)"
   ]
  },
  {
   "cell_type": "code",
   "execution_count": 68,
   "metadata": {},
   "outputs": [],
   "source": [
    "grid_search=GridSearchCV(ridge,param_grid=params,cv=10,scoring='neg_mean_absolute_error',n_jobs=-1,verbose=20)\n"
   ]
  },
  {
   "cell_type": "code",
   "execution_count": 69,
   "metadata": {},
   "outputs": [
    {
     "data": {
      "text/plain": [
       "GridSearchCV(cv=10, error_score='raise',\n",
       "       estimator=Ridge(alpha=1.0, copy_X=True, fit_intercept=True, max_iter=None,\n",
       "   normalize=False, random_state=None, solver='auto', tol=0.001),\n",
       "       fit_params=None, iid=True, n_jobs=-1,\n",
       "       param_grid={'alpha': array([  1.,   2., ...,  99., 100.])},\n",
       "       pre_dispatch='2*n_jobs', refit=True, return_train_score='warn',\n",
       "       scoring='neg_mean_absolute_error', verbose=20)"
      ]
     },
     "execution_count": 69,
     "metadata": {},
     "output_type": "execute_result"
    }
   ],
   "source": [
    "grid_search"
   ]
  },
  {
   "cell_type": "code",
   "execution_count": 70,
   "metadata": {},
   "outputs": [
    {
     "name": "stdout",
     "output_type": "stream",
     "text": [
      "Fitting 10 folds for each of 100 candidates, totalling 1000 fits\n"
     ]
    },
    {
     "name": "stderr",
     "output_type": "stream",
     "text": [
      "[Parallel(n_jobs=-1)]: Done   1 tasks      | elapsed:    1.7s\n",
      "[Parallel(n_jobs=-1)]: Done   2 tasks      | elapsed:    2.5s\n",
      "[Parallel(n_jobs=-1)]: Done   3 tasks      | elapsed:    3.8s\n",
      "[Parallel(n_jobs=-1)]: Done   4 tasks      | elapsed:    4.7s\n",
      "[Parallel(n_jobs=-1)]: Done   5 tasks      | elapsed:    4.7s\n",
      "[Parallel(n_jobs=-1)]: Done   6 tasks      | elapsed:    4.7s\n",
      "[Parallel(n_jobs=-1)]: Done   7 tasks      | elapsed:    4.7s\n",
      "[Parallel(n_jobs=-1)]: Done   8 tasks      | elapsed:    4.7s\n",
      "[Parallel(n_jobs=-1)]: Done   9 tasks      | elapsed:    4.7s\n",
      "[Parallel(n_jobs=-1)]: Done  10 tasks      | elapsed:    4.7s\n",
      "[Parallel(n_jobs=-1)]: Done  11 tasks      | elapsed:    4.7s\n",
      "[Parallel(n_jobs=-1)]: Done  12 tasks      | elapsed:    4.7s\n",
      "[Parallel(n_jobs=-1)]: Done  13 tasks      | elapsed:    4.7s\n",
      "[Parallel(n_jobs=-1)]: Done  14 tasks      | elapsed:    4.8s\n",
      "[Parallel(n_jobs=-1)]: Done  15 tasks      | elapsed:    4.8s\n",
      "[Parallel(n_jobs=-1)]: Done  16 tasks      | elapsed:    4.8s\n",
      "[Parallel(n_jobs=-1)]: Done  17 tasks      | elapsed:    4.8s\n",
      "[Parallel(n_jobs=-1)]: Done  18 tasks      | elapsed:    4.8s\n",
      "[Parallel(n_jobs=-1)]: Done  19 tasks      | elapsed:    4.8s\n",
      "[Parallel(n_jobs=-1)]: Done  20 tasks      | elapsed:    4.8s\n",
      "[Parallel(n_jobs=-1)]: Done  21 tasks      | elapsed:    4.8s\n",
      "[Parallel(n_jobs=-1)]: Done  22 tasks      | elapsed:    4.8s\n",
      "[Parallel(n_jobs=-1)]: Done  23 tasks      | elapsed:    4.8s\n",
      "[Parallel(n_jobs=-1)]: Done  24 tasks      | elapsed:    4.8s\n",
      "[Parallel(n_jobs=-1)]: Done  25 tasks      | elapsed:    4.8s\n",
      "[Parallel(n_jobs=-1)]: Batch computation too fast (0.1913s.) Setting batch_size=2.\n",
      "[Parallel(n_jobs=-1)]: Done  26 tasks      | elapsed:    4.9s\n",
      "[Parallel(n_jobs=-1)]: Done  27 tasks      | elapsed:    4.9s\n",
      "[Parallel(n_jobs=-1)]: Done  28 tasks      | elapsed:    4.9s\n",
      "[Parallel(n_jobs=-1)]: Done  29 tasks      | elapsed:    4.9s\n",
      "[Parallel(n_jobs=-1)]: Done  30 tasks      | elapsed:    4.9s\n",
      "[Parallel(n_jobs=-1)]: Done  31 tasks      | elapsed:    4.9s\n",
      "[Parallel(n_jobs=-1)]: Done  32 tasks      | elapsed:    4.9s\n",
      "[Parallel(n_jobs=-1)]: Done  34 tasks      | elapsed:    4.9s\n",
      "[Parallel(n_jobs=-1)]: Batch computation too fast (0.0781s.) Setting batch_size=10.\n",
      "[Parallel(n_jobs=-1)]: Done  36 tasks      | elapsed:    4.9s\n",
      "[Parallel(n_jobs=-1)]: Done  38 tasks      | elapsed:    4.9s\n",
      "[Parallel(n_jobs=-1)]: Done  40 tasks      | elapsed:    5.0s\n",
      "[Parallel(n_jobs=-1)]: Done  42 tasks      | elapsed:    5.0s\n",
      "[Parallel(n_jobs=-1)]: Done  44 tasks      | elapsed:    5.0s\n",
      "[Parallel(n_jobs=-1)]: Done  46 tasks      | elapsed:    5.0s\n",
      "[Parallel(n_jobs=-1)]: Done  48 tasks      | elapsed:    5.1s\n",
      "[Parallel(n_jobs=-1)]: Done  58 tasks      | elapsed:    5.3s\n",
      "[Parallel(n_jobs=-1)]: Done  68 tasks      | elapsed:    5.3s\n",
      "[Parallel(n_jobs=-1)]: Done  78 tasks      | elapsed:    5.3s\n",
      "[Parallel(n_jobs=-1)]: Done  88 tasks      | elapsed:    5.3s\n",
      "[Parallel(n_jobs=-1)]: Done  98 tasks      | elapsed:    5.4s\n",
      "[Parallel(n_jobs=-1)]: Done 108 tasks      | elapsed:    5.5s\n",
      "[Parallel(n_jobs=-1)]: Done 118 tasks      | elapsed:    5.5s\n",
      "[Parallel(n_jobs=-1)]: Done 128 tasks      | elapsed:    5.5s\n",
      "[Parallel(n_jobs=-1)]: Done 138 tasks      | elapsed:    5.6s\n",
      "[Parallel(n_jobs=-1)]: Done 148 tasks      | elapsed:    5.7s\n",
      "[Parallel(n_jobs=-1)]: Done 158 tasks      | elapsed:    5.7s\n",
      "[Parallel(n_jobs=-1)]: Done 168 tasks      | elapsed:    5.7s\n",
      "[Parallel(n_jobs=-1)]: Done 178 tasks      | elapsed:    5.8s\n",
      "[Parallel(n_jobs=-1)]: Done 188 tasks      | elapsed:    5.9s\n",
      "[Parallel(n_jobs=-1)]: Done 198 tasks      | elapsed:    5.9s\n",
      "[Parallel(n_jobs=-1)]: Done 208 tasks      | elapsed:    5.9s\n",
      "[Parallel(n_jobs=-1)]: Done 218 tasks      | elapsed:    6.0s\n",
      "[Parallel(n_jobs=-1)]: Done 228 tasks      | elapsed:    6.0s\n",
      "[Parallel(n_jobs=-1)]: Done 238 tasks      | elapsed:    6.1s\n",
      "[Parallel(n_jobs=-1)]: Done 248 tasks      | elapsed:    6.1s\n",
      "[Parallel(n_jobs=-1)]: Done 258 tasks      | elapsed:    6.2s\n",
      "[Parallel(n_jobs=-1)]: Done 268 tasks      | elapsed:    6.3s\n",
      "[Parallel(n_jobs=-1)]: Done 278 tasks      | elapsed:    6.3s\n",
      "[Parallel(n_jobs=-1)]: Done 288 tasks      | elapsed:    6.3s\n",
      "[Parallel(n_jobs=-1)]: Done 298 tasks      | elapsed:    6.4s\n",
      "[Parallel(n_jobs=-1)]: Done 308 tasks      | elapsed:    6.4s\n",
      "[Parallel(n_jobs=-1)]: Done 318 tasks      | elapsed:    6.5s\n",
      "[Parallel(n_jobs=-1)]: Done 328 tasks      | elapsed:    6.5s\n",
      "[Parallel(n_jobs=-1)]: Done 338 tasks      | elapsed:    6.6s\n",
      "[Parallel(n_jobs=-1)]: Done 348 tasks      | elapsed:    6.6s\n",
      "[Parallel(n_jobs=-1)]: Done 358 tasks      | elapsed:    6.7s\n",
      "[Parallel(n_jobs=-1)]: Done 368 tasks      | elapsed:    6.7s\n",
      "[Parallel(n_jobs=-1)]: Done 378 tasks      | elapsed:    6.8s\n",
      "[Parallel(n_jobs=-1)]: Done 388 tasks      | elapsed:    6.8s\n",
      "[Parallel(n_jobs=-1)]: Done 398 tasks      | elapsed:    6.9s\n",
      "[Parallel(n_jobs=-1)]: Done 408 tasks      | elapsed:    6.9s\n",
      "[Parallel(n_jobs=-1)]: Done 418 tasks      | elapsed:    7.0s\n",
      "[Parallel(n_jobs=-1)]: Done 428 tasks      | elapsed:    7.1s\n",
      "[Parallel(n_jobs=-1)]: Done 438 tasks      | elapsed:    7.1s\n",
      "[Parallel(n_jobs=-1)]: Done 448 tasks      | elapsed:    7.1s\n",
      "[Parallel(n_jobs=-1)]: Done 458 tasks      | elapsed:    7.2s\n",
      "[Parallel(n_jobs=-1)]: Done 468 tasks      | elapsed:    7.3s\n",
      "[Parallel(n_jobs=-1)]: Done 478 tasks      | elapsed:    7.3s\n",
      "[Parallel(n_jobs=-1)]: Done 488 tasks      | elapsed:    7.3s\n",
      "[Parallel(n_jobs=-1)]: Done 498 tasks      | elapsed:    7.5s\n",
      "[Parallel(n_jobs=-1)]: Done 508 tasks      | elapsed:    7.5s\n",
      "[Parallel(n_jobs=-1)]: Done 518 tasks      | elapsed:    7.5s\n",
      "[Parallel(n_jobs=-1)]: Done 528 tasks      | elapsed:    7.5s\n",
      "[Parallel(n_jobs=-1)]: Done 538 tasks      | elapsed:    7.6s\n",
      "[Parallel(n_jobs=-1)]: Done 548 tasks      | elapsed:    7.7s\n",
      "[Parallel(n_jobs=-1)]: Done 558 tasks      | elapsed:    7.7s\n",
      "[Parallel(n_jobs=-1)]: Done 568 tasks      | elapsed:    7.7s\n",
      "[Parallel(n_jobs=-1)]: Done 578 tasks      | elapsed:    7.8s\n",
      "[Parallel(n_jobs=-1)]: Done 588 tasks      | elapsed:    7.9s\n",
      "[Parallel(n_jobs=-1)]: Done 598 tasks      | elapsed:    7.9s\n",
      "[Parallel(n_jobs=-1)]: Done 608 tasks      | elapsed:    7.9s\n",
      "[Parallel(n_jobs=-1)]: Done 618 tasks      | elapsed:    8.0s\n",
      "[Parallel(n_jobs=-1)]: Done 628 tasks      | elapsed:    8.0s\n",
      "[Parallel(n_jobs=-1)]: Done 638 tasks      | elapsed:    8.1s\n",
      "[Parallel(n_jobs=-1)]: Done 648 tasks      | elapsed:    8.1s\n",
      "[Parallel(n_jobs=-1)]: Done 658 tasks      | elapsed:    8.2s\n",
      "[Parallel(n_jobs=-1)]: Done 668 tasks      | elapsed:    8.2s\n",
      "[Parallel(n_jobs=-1)]: Done 678 tasks      | elapsed:    8.3s\n",
      "[Parallel(n_jobs=-1)]: Done 688 tasks      | elapsed:    8.3s\n",
      "[Parallel(n_jobs=-1)]: Done 698 tasks      | elapsed:    8.4s\n",
      "[Parallel(n_jobs=-1)]: Done 708 tasks      | elapsed:    8.4s\n",
      "[Parallel(n_jobs=-1)]: Done 718 tasks      | elapsed:    8.5s\n",
      "[Parallel(n_jobs=-1)]: Done 728 tasks      | elapsed:    8.5s\n",
      "[Parallel(n_jobs=-1)]: Done 738 tasks      | elapsed:    8.6s\n",
      "[Parallel(n_jobs=-1)]: Done 748 tasks      | elapsed:    8.6s\n",
      "[Parallel(n_jobs=-1)]: Done 758 tasks      | elapsed:    8.7s\n",
      "[Parallel(n_jobs=-1)]: Done 768 tasks      | elapsed:    8.7s\n",
      "[Parallel(n_jobs=-1)]: Done 778 tasks      | elapsed:    8.8s\n",
      "[Parallel(n_jobs=-1)]: Done 788 tasks      | elapsed:    8.8s\n",
      "[Parallel(n_jobs=-1)]: Done 798 tasks      | elapsed:    8.9s\n",
      "[Parallel(n_jobs=-1)]: Done 808 tasks      | elapsed:    8.9s\n",
      "[Parallel(n_jobs=-1)]: Done 818 tasks      | elapsed:    9.0s\n",
      "[Parallel(n_jobs=-1)]: Done 828 tasks      | elapsed:    9.0s\n",
      "[Parallel(n_jobs=-1)]: Done 838 tasks      | elapsed:    9.0s\n",
      "[Parallel(n_jobs=-1)]: Done 848 tasks      | elapsed:    9.1s\n",
      "[Parallel(n_jobs=-1)]: Done 858 tasks      | elapsed:    9.1s\n",
      "[Parallel(n_jobs=-1)]: Done 868 tasks      | elapsed:    9.2s\n",
      "[Parallel(n_jobs=-1)]: Done 878 tasks      | elapsed:    9.2s\n",
      "[Parallel(n_jobs=-1)]: Done 888 tasks      | elapsed:    9.2s\n",
      "[Parallel(n_jobs=-1)]: Done 898 tasks      | elapsed:    9.3s\n",
      "[Parallel(n_jobs=-1)]: Done 908 tasks      | elapsed:    9.3s\n",
      "[Parallel(n_jobs=-1)]: Done 918 tasks      | elapsed:    9.4s\n",
      "[Parallel(n_jobs=-1)]: Done 928 tasks      | elapsed:    9.4s\n",
      "[Parallel(n_jobs=-1)]: Done 938 tasks      | elapsed:    9.5s\n",
      "[Parallel(n_jobs=-1)]: Done 1000 out of 1000 | elapsed:    9.7s finished\n"
     ]
    },
    {
     "data": {
      "text/plain": [
       "GridSearchCV(cv=10, error_score='raise',\n",
       "       estimator=Ridge(alpha=1.0, copy_X=True, fit_intercept=True, max_iter=None,\n",
       "   normalize=False, random_state=None, solver='auto', tol=0.001),\n",
       "       fit_params=None, iid=True, n_jobs=-1,\n",
       "       param_grid={'alpha': array([  1.,   2., ...,  99., 100.])},\n",
       "       pre_dispatch='2*n_jobs', refit=True, return_train_score='warn',\n",
       "       scoring='neg_mean_absolute_error', verbose=20)"
      ]
     },
     "execution_count": 70,
     "metadata": {},
     "output_type": "execute_result"
    }
   ],
   "source": [
    "grid_search.fit(x_train,y_train)"
   ]
  },
  {
   "cell_type": "code",
   "execution_count": 71,
   "metadata": {},
   "outputs": [
    {
     "data": {
      "text/plain": [
       "Ridge(alpha=32.0, copy_X=True, fit_intercept=True, max_iter=None,\n",
       "   normalize=False, random_state=None, solver='auto', tol=0.001)"
      ]
     },
     "execution_count": 71,
     "metadata": {},
     "output_type": "execute_result"
    }
   ],
   "source": [
    "grid_search.best_estimator_"
   ]
  },
  {
   "cell_type": "code",
   "execution_count": 72,
   "metadata": {},
   "outputs": [
    {
     "name": "stderr",
     "output_type": "stream",
     "text": [
      "C:\\Users\\Dell\\Anaconda3\\lib\\site-packages\\sklearn\\utils\\deprecation.py:122: FutureWarning: You are accessing a training score ('mean_train_score'), which will not be available by default any more in 0.21. If you need training scores, please set return_train_score=True\n",
      "  warnings.warn(*warn_args, **warn_kwargs)\n",
      "C:\\Users\\Dell\\Anaconda3\\lib\\site-packages\\sklearn\\utils\\deprecation.py:122: FutureWarning: You are accessing a training score ('split0_train_score'), which will not be available by default any more in 0.21. If you need training scores, please set return_train_score=True\n",
      "  warnings.warn(*warn_args, **warn_kwargs)\n",
      "C:\\Users\\Dell\\Anaconda3\\lib\\site-packages\\sklearn\\utils\\deprecation.py:122: FutureWarning: You are accessing a training score ('split1_train_score'), which will not be available by default any more in 0.21. If you need training scores, please set return_train_score=True\n",
      "  warnings.warn(*warn_args, **warn_kwargs)\n",
      "C:\\Users\\Dell\\Anaconda3\\lib\\site-packages\\sklearn\\utils\\deprecation.py:122: FutureWarning: You are accessing a training score ('split2_train_score'), which will not be available by default any more in 0.21. If you need training scores, please set return_train_score=True\n",
      "  warnings.warn(*warn_args, **warn_kwargs)\n",
      "C:\\Users\\Dell\\Anaconda3\\lib\\site-packages\\sklearn\\utils\\deprecation.py:122: FutureWarning: You are accessing a training score ('split3_train_score'), which will not be available by default any more in 0.21. If you need training scores, please set return_train_score=True\n",
      "  warnings.warn(*warn_args, **warn_kwargs)\n",
      "C:\\Users\\Dell\\Anaconda3\\lib\\site-packages\\sklearn\\utils\\deprecation.py:122: FutureWarning: You are accessing a training score ('split4_train_score'), which will not be available by default any more in 0.21. If you need training scores, please set return_train_score=True\n",
      "  warnings.warn(*warn_args, **warn_kwargs)\n",
      "C:\\Users\\Dell\\Anaconda3\\lib\\site-packages\\sklearn\\utils\\deprecation.py:122: FutureWarning: You are accessing a training score ('split5_train_score'), which will not be available by default any more in 0.21. If you need training scores, please set return_train_score=True\n",
      "  warnings.warn(*warn_args, **warn_kwargs)\n",
      "C:\\Users\\Dell\\Anaconda3\\lib\\site-packages\\sklearn\\utils\\deprecation.py:122: FutureWarning: You are accessing a training score ('split6_train_score'), which will not be available by default any more in 0.21. If you need training scores, please set return_train_score=True\n",
      "  warnings.warn(*warn_args, **warn_kwargs)\n",
      "C:\\Users\\Dell\\Anaconda3\\lib\\site-packages\\sklearn\\utils\\deprecation.py:122: FutureWarning: You are accessing a training score ('split7_train_score'), which will not be available by default any more in 0.21. If you need training scores, please set return_train_score=True\n",
      "  warnings.warn(*warn_args, **warn_kwargs)\n",
      "C:\\Users\\Dell\\Anaconda3\\lib\\site-packages\\sklearn\\utils\\deprecation.py:122: FutureWarning: You are accessing a training score ('split8_train_score'), which will not be available by default any more in 0.21. If you need training scores, please set return_train_score=True\n",
      "  warnings.warn(*warn_args, **warn_kwargs)\n",
      "C:\\Users\\Dell\\Anaconda3\\lib\\site-packages\\sklearn\\utils\\deprecation.py:122: FutureWarning: You are accessing a training score ('split9_train_score'), which will not be available by default any more in 0.21. If you need training scores, please set return_train_score=True\n",
      "  warnings.warn(*warn_args, **warn_kwargs)\n",
      "C:\\Users\\Dell\\Anaconda3\\lib\\site-packages\\sklearn\\utils\\deprecation.py:122: FutureWarning: You are accessing a training score ('std_train_score'), which will not be available by default any more in 0.21. If you need training scores, please set return_train_score=True\n",
      "  warnings.warn(*warn_args, **warn_kwargs)\n"
     ]
    },
    {
     "data": {
      "text/plain": [
       "{'mean_fit_time': array([0.05011017, 0.01562479, 0.02187629, 0.01718731, 0.03072441,\n",
       "        0.01840014, 0.01840262, 0.01800206, 0.01440058, 0.01024449,\n",
       "        0.00999091, 0.00668793, 0.00156226, 0.01250014, 0.01562531,\n",
       "        0.00781231, 0.00937488, 0.01406288, 0.01406283, 0.02031293,\n",
       "        0.01093771, 0.01250005, 0.00781255, 0.00312514, 0.00468726,\n",
       "        0.01406243, 0.01406245, 0.01093779, 0.01406264, 0.01406195,\n",
       "        0.01093752, 0.00937657, 0.014062  , 0.01093762, 0.01562507,\n",
       "        0.0156255 , 0.01718843, 0.01718864, 0.01562512, 0.01406279,\n",
       "        0.01093771, 0.01406269, 0.01406262, 0.01093748, 0.01562479,\n",
       "        0.0125005 , 0.01875031, 0.00468814, 0.00937521, 0.01093733,\n",
       "        0.01249993, 0.01562505, 0.01250038, 0.00625   , 0.00937517,\n",
       "        0.01406267, 0.00937505, 0.00937507, 0.01718764, 0.00937502,\n",
       "        0.00781236, 0.01562548, 0.01875036, 0.01562631, 0.01093888,\n",
       "        0.00468743, 0.00937471, 0.00781267, 0.00156305, 0.01718843,\n",
       "        0.01406212, 0.01570024, 0.02043524, 0.018611  , 0.01651003,\n",
       "        0.00937474, 0.01093769, 0.0078119 , 0.01406326, 0.01250024,\n",
       "        0.00781264, 0.01250029, 0.01562514, 0.01406269, 0.00625041,\n",
       "        0.0156251 , 0.01718726, 0.01562543, 0.01562517, 0.00937464,\n",
       "        0.01249995, 0.01718786, 0.00937507, 0.00937533, 0.0125    ,\n",
       "        0.01406298, 0.01562459, 0.00937543, 0.0125005 , 0.01093748]),\n",
       " 'mean_score_time': array([0.00039999, 0.        , 0.00156267, 0.00468719, 0.00498664,\n",
       "        0.00319974, 0.00239983, 0.00360026, 0.0027998 , 0.00196254,\n",
       "        0.00196254, 0.00486548, 0.0109374 , 0.00156255, 0.00156238,\n",
       "        0.        , 0.00156255, 0.0015626 , 0.        , 0.00156245,\n",
       "        0.00468726, 0.        , 0.00156264, 0.0046874 , 0.00312517,\n",
       "        0.00156248, 0.        , 0.00156248, 0.        , 0.00312481,\n",
       "        0.        , 0.00312507, 0.        , 0.00156255, 0.00156255,\n",
       "        0.00312483, 0.003125  , 0.00312476, 0.        , 0.        ,\n",
       "        0.00468743, 0.00781255, 0.00625   , 0.00156245, 0.        ,\n",
       "        0.00312476, 0.00156238, 0.00468755, 0.00156183, 0.00156255,\n",
       "        0.0046875 , 0.00156245, 0.        , 0.00312531, 0.        ,\n",
       "        0.0015625 , 0.00468748, 0.0046874 , 0.        , 0.00312536,\n",
       "        0.00624969, 0.        , 0.        , 0.        , 0.00156167,\n",
       "        0.        , 0.00156238, 0.        , 0.00468717, 0.        ,\n",
       "        0.003125  , 0.        , 0.00203593, 0.00084727, 0.00196235,\n",
       "        0.00156281, 0.00156262, 0.0031256 , 0.00156195, 0.00468736,\n",
       "        0.01093719, 0.00156226, 0.        , 0.        , 0.00156255,\n",
       "        0.        , 0.        , 0.        , 0.00156248, 0.00312512,\n",
       "        0.00156255, 0.        , 0.0046874 , 0.        , 0.        ,\n",
       "        0.        , 0.003125  , 0.00468755, 0.00156255, 0.00156255]),\n",
       " 'mean_test_score': array([-1.61783356, -1.6168344 , -1.61597861, -1.61523694, -1.61456938,\n",
       "        -1.61397282, -1.61347852, -1.61306896, -1.61269234, -1.61236744,\n",
       "        -1.61206083, -1.6117763 , -1.61151189, -1.61126121, -1.61103006,\n",
       "        -1.61083702, -1.61066784, -1.61051091, -1.61036665, -1.61023767,\n",
       "        -1.61012083, -1.61001968, -1.60993529, -1.60985825, -1.60979045,\n",
       "        -1.609732  , -1.60968122, -1.60964395, -1.60961772, -1.60960063,\n",
       "        -1.6095904 , -1.60958494, -1.60958743, -1.60960329, -1.60962522,\n",
       "        -1.60965649, -1.60969422, -1.60973695, -1.60978392, -1.6098416 ,\n",
       "        -1.60991181, -1.60999027, -1.61008407, -1.61018751, -1.61030522,\n",
       "        -1.61043414, -1.61056931, -1.61070513, -1.61084397, -1.61098663,\n",
       "        -1.61113254, -1.61128173, -1.61143528, -1.61159202, -1.61175519,\n",
       "        -1.61192047, -1.61209457, -1.612269  , -1.61244327, -1.6126211 ,\n",
       "        -1.61281014, -1.61300143, -1.61319391, -1.61339317, -1.61360596,\n",
       "        -1.61382572, -1.61405175, -1.61428342, -1.61451867, -1.61476361,\n",
       "        -1.61501552, -1.61526884, -1.61552297, -1.61577925, -1.61603559,\n",
       "        -1.61629355, -1.61655504, -1.61681654, -1.61708223, -1.61734881,\n",
       "        -1.61761476, -1.61788355, -1.61815103, -1.6184182 , -1.61868645,\n",
       "        -1.61895472, -1.61922389, -1.61949476, -1.61976901, -1.62005244,\n",
       "        -1.62033986, -1.62063048, -1.62092003, -1.62121148, -1.62150556,\n",
       "        -1.62179931, -1.62209702, -1.62239369, -1.622689  , -1.62299093]),\n",
       " 'mean_train_score': array([-1.57566275, -1.57572921, -1.57581216, -1.57590418, -1.57600538,\n",
       "        -1.57611663, -1.5762296 , -1.57634693, -1.57647802, -1.57661877,\n",
       "        -1.57676016, -1.57690824, -1.57705925, -1.5772134 , -1.57737259,\n",
       "        -1.5775364 , -1.57770461, -1.57788041, -1.57805898, -1.57823924,\n",
       "        -1.57842199, -1.57861062, -1.57880119, -1.57899508, -1.57919554,\n",
       "        -1.57939898, -1.57960838, -1.57982255, -1.58003906, -1.58025956,\n",
       "        -1.58048243, -1.58070901, -1.58093831, -1.58117106, -1.58140873,\n",
       "        -1.58164915, -1.58189419, -1.58214318, -1.58239594, -1.58265054,\n",
       "        -1.58290592, -1.58316371, -1.58342353, -1.58368415, -1.58394781,\n",
       "        -1.58421909, -1.58449536, -1.58477402, -1.58505367, -1.5853377 ,\n",
       "        -1.58562382, -1.58590926, -1.58619686, -1.5864876 , -1.58677977,\n",
       "        -1.58707295, -1.58736629, -1.58766221, -1.58795986, -1.58826004,\n",
       "        -1.58856389, -1.58887078, -1.58917941, -1.58948927, -1.58980039,\n",
       "        -1.59011402, -1.59042867, -1.59074497, -1.59106342, -1.59138587,\n",
       "        -1.5917121 , -1.59204092, -1.59237101, -1.59270121, -1.59303242,\n",
       "        -1.59336455, -1.59370018, -1.59403907, -1.59438016, -1.59472157,\n",
       "        -1.59506268, -1.59540515, -1.59574962, -1.59609404, -1.5964378 ,\n",
       "        -1.5967846 , -1.59713175, -1.5974788 , -1.59782592, -1.59817342,\n",
       "        -1.59852228, -1.59887215, -1.59922138, -1.59957022, -1.59991947,\n",
       "        -1.60026894, -1.60062104, -1.60097265, -1.60132411, -1.60167634]),\n",
       " 'param_alpha': masked_array(data=[1.0, 2.0, 3.0, 4.0, 5.0, 6.0, 7.0, 8.0, 9.0, 10.0,\n",
       "                    11.0, 12.0, 13.0, 14.0, 15.0, 16.0, 17.0, 18.0, 19.0,\n",
       "                    20.0, 21.0, 22.0, 23.0, 24.0, 25.0, 26.0, 27.0, 28.0,\n",
       "                    29.0, 30.0, 31.0, 32.0, 33.0, 34.0, 35.0, 36.0, 37.0,\n",
       "                    38.0, 39.0, 40.0, 41.0, 42.0, 43.0, 44.0, 45.0, 46.0,\n",
       "                    47.0, 48.0, 49.0, 50.0, 51.0, 52.0, 53.0, 54.0, 55.0,\n",
       "                    56.0, 57.0, 58.0, 59.0, 60.0, 61.0, 62.0, 63.0, 64.0,\n",
       "                    65.0, 66.0, 67.0, 68.0, 69.0, 70.0, 71.0, 72.0, 73.0,\n",
       "                    74.0, 75.0, 76.0, 77.0, 78.0, 79.0, 80.0, 81.0, 82.0,\n",
       "                    83.0, 84.0, 85.0, 86.0, 87.0, 88.0, 89.0, 90.0, 91.0,\n",
       "                    92.0, 93.0, 94.0, 95.0, 96.0, 97.0, 98.0, 99.0, 100.0],\n",
       "              mask=[False, False, False, False, False, False, False, False,\n",
       "                    False, False, False, False, False, False, False, False,\n",
       "                    False, False, False, False, False, False, False, False,\n",
       "                    False, False, False, False, False, False, False, False,\n",
       "                    False, False, False, False, False, False, False, False,\n",
       "                    False, False, False, False, False, False, False, False,\n",
       "                    False, False, False, False, False, False, False, False,\n",
       "                    False, False, False, False, False, False, False, False,\n",
       "                    False, False, False, False, False, False, False, False,\n",
       "                    False, False, False, False, False, False, False, False,\n",
       "                    False, False, False, False, False, False, False, False,\n",
       "                    False, False, False, False, False, False, False, False,\n",
       "                    False, False, False, False],\n",
       "        fill_value='?',\n",
       "             dtype=object),\n",
       " 'params': [{'alpha': 1.0},\n",
       "  {'alpha': 2.0},\n",
       "  {'alpha': 3.0},\n",
       "  {'alpha': 4.0},\n",
       "  {'alpha': 5.0},\n",
       "  {'alpha': 6.0},\n",
       "  {'alpha': 7.0},\n",
       "  {'alpha': 8.0},\n",
       "  {'alpha': 9.0},\n",
       "  {'alpha': 10.0},\n",
       "  {'alpha': 11.0},\n",
       "  {'alpha': 12.0},\n",
       "  {'alpha': 13.0},\n",
       "  {'alpha': 14.0},\n",
       "  {'alpha': 15.0},\n",
       "  {'alpha': 16.0},\n",
       "  {'alpha': 17.0},\n",
       "  {'alpha': 18.0},\n",
       "  {'alpha': 19.0},\n",
       "  {'alpha': 20.0},\n",
       "  {'alpha': 21.0},\n",
       "  {'alpha': 22.0},\n",
       "  {'alpha': 23.0},\n",
       "  {'alpha': 24.0},\n",
       "  {'alpha': 25.0},\n",
       "  {'alpha': 26.0},\n",
       "  {'alpha': 27.0},\n",
       "  {'alpha': 28.0},\n",
       "  {'alpha': 29.0},\n",
       "  {'alpha': 30.0},\n",
       "  {'alpha': 31.0},\n",
       "  {'alpha': 32.0},\n",
       "  {'alpha': 33.0},\n",
       "  {'alpha': 34.0},\n",
       "  {'alpha': 35.0},\n",
       "  {'alpha': 36.0},\n",
       "  {'alpha': 37.0},\n",
       "  {'alpha': 38.0},\n",
       "  {'alpha': 39.0},\n",
       "  {'alpha': 40.0},\n",
       "  {'alpha': 41.0},\n",
       "  {'alpha': 42.0},\n",
       "  {'alpha': 43.0},\n",
       "  {'alpha': 44.0},\n",
       "  {'alpha': 45.0},\n",
       "  {'alpha': 46.0},\n",
       "  {'alpha': 47.0},\n",
       "  {'alpha': 48.0},\n",
       "  {'alpha': 49.0},\n",
       "  {'alpha': 50.0},\n",
       "  {'alpha': 51.0},\n",
       "  {'alpha': 52.0},\n",
       "  {'alpha': 53.0},\n",
       "  {'alpha': 54.0},\n",
       "  {'alpha': 55.0},\n",
       "  {'alpha': 56.0},\n",
       "  {'alpha': 57.0},\n",
       "  {'alpha': 58.0},\n",
       "  {'alpha': 59.0},\n",
       "  {'alpha': 60.0},\n",
       "  {'alpha': 61.0},\n",
       "  {'alpha': 62.0},\n",
       "  {'alpha': 63.0},\n",
       "  {'alpha': 64.0},\n",
       "  {'alpha': 65.0},\n",
       "  {'alpha': 66.0},\n",
       "  {'alpha': 67.0},\n",
       "  {'alpha': 68.0},\n",
       "  {'alpha': 69.0},\n",
       "  {'alpha': 70.0},\n",
       "  {'alpha': 71.0},\n",
       "  {'alpha': 72.0},\n",
       "  {'alpha': 73.0},\n",
       "  {'alpha': 74.0},\n",
       "  {'alpha': 75.0},\n",
       "  {'alpha': 76.0},\n",
       "  {'alpha': 77.0},\n",
       "  {'alpha': 78.0},\n",
       "  {'alpha': 79.0},\n",
       "  {'alpha': 80.0},\n",
       "  {'alpha': 81.0},\n",
       "  {'alpha': 82.0},\n",
       "  {'alpha': 83.0},\n",
       "  {'alpha': 84.0},\n",
       "  {'alpha': 85.0},\n",
       "  {'alpha': 86.0},\n",
       "  {'alpha': 87.0},\n",
       "  {'alpha': 88.0},\n",
       "  {'alpha': 89.0},\n",
       "  {'alpha': 90.0},\n",
       "  {'alpha': 91.0},\n",
       "  {'alpha': 92.0},\n",
       "  {'alpha': 93.0},\n",
       "  {'alpha': 94.0},\n",
       "  {'alpha': 95.0},\n",
       "  {'alpha': 96.0},\n",
       "  {'alpha': 97.0},\n",
       "  {'alpha': 98.0},\n",
       "  {'alpha': 99.0},\n",
       "  {'alpha': 100.0}],\n",
       " 'rank_test_score': array([ 81,  77,  72,  68,  65,  61,  58,  55,  52,  49,  46,  44,  41,\n",
       "         38,  36,  33,  31,  29,  27,  25,  23,  21,  19,  17,  15,  12,\n",
       "         10,   8,   6,   4,   3,   1,   2,   5,   7,   9,  11,  13,  14,\n",
       "         16,  18,  20,  22,  24,  26,  28,  30,  32,  34,  35,  37,  39,\n",
       "         40,  42,  43,  45,  47,  48,  50,  51,  53,  54,  56,  57,  59,\n",
       "         60,  62,  63,  64,  66,  67,  69,  70,  71,  73,  74,  75,  76,\n",
       "         78,  79,  80,  82,  83,  84,  85,  86,  87,  88,  89,  90,  91,\n",
       "         92,  93,  94,  95,  96,  97,  98,  99, 100]),\n",
       " 'split0_test_score': array([-1.72287543, -1.72368859, -1.72439795, -1.7250645 , -1.72575225,\n",
       "        -1.72639567, -1.72705248, -1.72768678, -1.72830602, -1.72893729,\n",
       "        -1.72954844, -1.73014163, -1.73071859, -1.73128082, -1.73182956,\n",
       "        -1.73236585, -1.73289064, -1.7334047 , -1.73391247, -1.73443523,\n",
       "        -1.73494891, -1.73545399, -1.73595094, -1.73644016, -1.73692202,\n",
       "        -1.73739686, -1.73786499, -1.73832668, -1.7387822 , -1.73926732,\n",
       "        -1.73977791, -1.74028203, -1.74081321, -1.74139953, -1.74197941,\n",
       "        -1.74255301, -1.74312053, -1.74368212, -1.74423793, -1.74485662,\n",
       "        -1.74548173, -1.74614954, -1.74682731, -1.74749886, -1.74818726,\n",
       "        -1.74887528, -1.74955735, -1.75023358, -1.75090408, -1.75156896,\n",
       "        -1.75222832, -1.75288225, -1.75353085, -1.75417713, -1.75484792,\n",
       "        -1.75551294, -1.75617232, -1.75682614, -1.75747451, -1.75811752,\n",
       "        -1.75875526, -1.75938783, -1.7600153 , -1.76063778, -1.76125532,\n",
       "        -1.76186802, -1.76248567, -1.76312843, -1.76376631, -1.76439936,\n",
       "        -1.76503088, -1.76567664, -1.7663176 , -1.76695383, -1.76758541,\n",
       "        -1.76822345, -1.76886757, -1.76950703, -1.77014188, -1.77077219,\n",
       "        -1.77139802, -1.77201944, -1.77263649, -1.77324923, -1.77385773,\n",
       "        -1.77446204, -1.7750622 , -1.77565828, -1.77625032, -1.77683837,\n",
       "        -1.77742248, -1.77800271, -1.77857909, -1.77915167, -1.7797205 ,\n",
       "        -1.78028562, -1.78084708, -1.78140491, -1.78195917, -1.78250988]),\n",
       " 'split0_train_score': array([-1.56362116, -1.56362433, -1.56360061, -1.56360285, -1.56365075,\n",
       "        -1.56369692, -1.56374677, -1.56380813, -1.56388249, -1.56395702,\n",
       "        -1.56403287, -1.56413094, -1.56422797, -1.56432585, -1.56442351,\n",
       "        -1.56452495, -1.56464047, -1.56477794, -1.56492154, -1.56506931,\n",
       "        -1.56521939, -1.56537293, -1.56552648, -1.56569089, -1.56586034,\n",
       "        -1.56603446, -1.56621004, -1.56638914, -1.56657476, -1.56676432,\n",
       "        -1.56695187, -1.56713749, -1.56732123, -1.56750993, -1.56771342,\n",
       "        -1.56792349, -1.56814327, -1.56837617, -1.56860694, -1.56883589,\n",
       "        -1.56906621, -1.56929743, -1.56952664, -1.56975388, -1.56998204,\n",
       "        -1.57021168, -1.57044088, -1.57067227, -1.57090461, -1.57114393,\n",
       "        -1.57139034, -1.57163753, -1.57189507, -1.57215768, -1.5724204 ,\n",
       "        -1.57268552, -1.57294849, -1.57321074, -1.57347634, -1.57374278,\n",
       "        -1.574009  , -1.57428414, -1.57456162, -1.57484312, -1.57513825,\n",
       "        -1.57543911, -1.57575126, -1.5760663 , -1.57638405, -1.57670723,\n",
       "        -1.57703122, -1.57735443, -1.57767529, -1.57799384, -1.57831011,\n",
       "        -1.578631  , -1.57895702, -1.57928393, -1.57961289, -1.57994074,\n",
       "        -1.58026912, -1.58059696, -1.58092338, -1.58125236, -1.58158063,\n",
       "        -1.58190928, -1.58223685, -1.58256277, -1.58289093, -1.58322003,\n",
       "        -1.58354823, -1.58387432, -1.58419833, -1.58452027, -1.5848412 ,\n",
       "        -1.5851642 , -1.58548967, -1.58581705, -1.58614378, -1.58648078]),\n",
       " 'split1_test_score': array([-1.76555995, -1.76272609, -1.76052239, -1.75855023, -1.75663595,\n",
       "        -1.7548146 , -1.75308533, -1.75142894, -1.74985223, -1.74841547,\n",
       "        -1.74704158, -1.74572726, -1.74446917, -1.74326407, -1.74210884,\n",
       "        -1.74106   , -1.74011033, -1.73920085, -1.73832917, -1.73749309,\n",
       "        -1.73669753, -1.73599041, -1.73533614, -1.73470709, -1.73410188,\n",
       "        -1.7335192 , -1.73295786, -1.73241673, -1.73189476, -1.73139097,\n",
       "        -1.73090444, -1.73043432, -1.7299798 , -1.72954014, -1.72911464,\n",
       "        -1.72870263, -1.72830349, -1.72791663, -1.72756265, -1.72722827,\n",
       "        -1.72690447, -1.72659077, -1.72628676, -1.72599202, -1.72570616,\n",
       "        -1.72542882, -1.72515965, -1.72489833, -1.72464454, -1.72439799,\n",
       "        -1.72415839, -1.72392549, -1.72369903, -1.72347877, -1.72326447,\n",
       "        -1.72305593, -1.72285293, -1.72265527, -1.72246277, -1.72227524,\n",
       "        -1.72209252, -1.72191444, -1.72174708, -1.72160607, -1.72146888,\n",
       "        -1.72133537, -1.72120543, -1.72107893, -1.72095575, -1.72083579,\n",
       "        -1.72071894, -1.7206051 , -1.72051385, -1.7204418 , -1.72037238,\n",
       "        -1.72030551, -1.72024109, -1.72017906, -1.72011934, -1.72006185,\n",
       "        -1.72000651, -1.71995326, -1.71990204, -1.71985278, -1.71980542,\n",
       "        -1.71975991, -1.71971617, -1.71967416, -1.71964151, -1.71964449,\n",
       "        -1.71964871, -1.71968877, -1.71973199, -1.71977615, -1.71982121,\n",
       "        -1.71986713, -1.71991389, -1.71996144, -1.72000975, -1.72006811]),\n",
       " 'split1_train_score': array([-1.5576375 , -1.55777435, -1.55786477, -1.55798977, -1.55810756,\n",
       "        -1.55823678, -1.55837508, -1.5585256 , -1.55870826, -1.55890851,\n",
       "        -1.559116  , -1.5593567 , -1.55960101, -1.55983994, -1.56007833,\n",
       "        -1.56031482, -1.56055907, -1.56080479, -1.56104634, -1.5612843 ,\n",
       "        -1.56152661, -1.56176861, -1.56201556, -1.56227059, -1.56253673,\n",
       "        -1.56280178, -1.56308042, -1.56335649, -1.56363237, -1.56391235,\n",
       "        -1.56419212, -1.56447718, -1.56476935, -1.56506721, -1.56536172,\n",
       "        -1.56565344, -1.5659506 , -1.56625169, -1.56654985, -1.56684814,\n",
       "        -1.56714333, -1.56744011, -1.56773644, -1.56803141, -1.56832352,\n",
       "        -1.56863088, -1.56894161, -1.56924969, -1.56956134, -1.5698891 ,\n",
       "        -1.57021872, -1.57054615, -1.57087351, -1.57119792, -1.57151944,\n",
       "        -1.57184346, -1.57217367, -1.57250146, -1.57283042, -1.57317032,\n",
       "        -1.57351992, -1.57386685, -1.57421267, -1.57455721, -1.57489891,\n",
       "        -1.57524492, -1.57558986, -1.57594328, -1.57629938, -1.57665332,\n",
       "        -1.5770045 , -1.57735336, -1.57770538, -1.57805558, -1.57840313,\n",
       "        -1.57874948, -1.57910016, -1.57945856, -1.57982624, -1.58019917,\n",
       "        -1.58057003, -1.58094102, -1.58131755, -1.58169321, -1.58206847,\n",
       "        -1.58244612, -1.58282333, -1.58319931, -1.58357685, -1.58395184,\n",
       "        -1.58432584, -1.58470327, -1.58507921, -1.58545499, -1.58583078,\n",
       "        -1.58620744, -1.58658406, -1.58695824, -1.58733119, -1.58770579]),\n",
       " 'split2_test_score': array([-1.7707155 , -1.7689629 , -1.76738549, -1.76594821, -1.76462771,\n",
       "        -1.76340708, -1.76264661, -1.76234896, -1.76208042, -1.76183651,\n",
       "        -1.76161378, -1.76140949, -1.76122145, -1.76104787, -1.76088726,\n",
       "        -1.76073837, -1.76060011, -1.76047157, -1.76035195, -1.76024054,\n",
       "        -1.76013673, -1.76003997, -1.75994976, -1.75986567, -1.7597873 ,\n",
       "        -1.75971428, -1.75964822, -1.75961894, -1.75959347, -1.75957159,\n",
       "        -1.75955307, -1.75953773, -1.75952539, -1.75951588, -1.75951728,\n",
       "        -1.75954608, -1.7595829 , -1.75962428, -1.75966788, -1.75972373,\n",
       "        -1.75984696, -1.75997134, -1.76009679, -1.76022322, -1.76043026,\n",
       "        -1.7607042 , -1.76097697, -1.76124856, -1.76151897, -1.76178818,\n",
       "        -1.7620562 , -1.76232301, -1.7625886 , -1.76285298, -1.76311614,\n",
       "        -1.76337808, -1.76363879, -1.76389827, -1.76415653, -1.76441356,\n",
       "        -1.76466936, -1.76493968, -1.76521934, -1.765514  , -1.76585314,\n",
       "        -1.76621834, -1.76658141, -1.76694235, -1.76730575, -1.76769693,\n",
       "        -1.76809012, -1.76848709, -1.76888119, -1.76927247, -1.76966097,\n",
       "        -1.77004672, -1.77042977, -1.77081016, -1.7711879 , -1.77156305,\n",
       "        -1.77193563, -1.77230568, -1.77267323, -1.7730383 , -1.77340094,\n",
       "        -1.77376117, -1.77411902, -1.77447452, -1.7748277 , -1.77517858,\n",
       "        -1.77552719, -1.77587357, -1.77621772, -1.77655969, -1.77689949,\n",
       "        -1.77723715, -1.7775727 , -1.77790614, -1.77823752, -1.77862635]),\n",
       " 'split2_train_score': array([-1.55588024, -1.55611468, -1.55629549, -1.5565082 , -1.55669405,\n",
       "        -1.55685643, -1.55700992, -1.55716696, -1.55731079, -1.55744789,\n",
       "        -1.55758899, -1.55773275, -1.55787102, -1.55800693, -1.55814368,\n",
       "        -1.55828774, -1.55843833, -1.55859471, -1.55875366, -1.5589089 ,\n",
       "        -1.55906802, -1.5592423 , -1.55941965, -1.55959473, -1.55976658,\n",
       "        -1.55994073, -1.56012545, -1.56031632, -1.56051121, -1.56070622,\n",
       "        -1.56090227, -1.56109573, -1.56128762, -1.56148074, -1.56167897,\n",
       "        -1.56188953, -1.56210535, -1.56231942, -1.56253324, -1.56274931,\n",
       "        -1.56296944, -1.5631956 , -1.56341941, -1.56364777, -1.56388854,\n",
       "        -1.56414062, -1.56439966, -1.5646604 , -1.5649211 , -1.56518998,\n",
       "        -1.56545744, -1.56572246, -1.56598772, -1.5662634 , -1.56653924,\n",
       "        -1.56681454, -1.56708788, -1.56736787, -1.5676504 , -1.56793998,\n",
       "        -1.56824545, -1.56855985, -1.56888131, -1.5692036 , -1.56952487,\n",
       "        -1.56984356, -1.57015997, -1.57047515, -1.57079187, -1.57112034,\n",
       "        -1.57145506, -1.5717966 , -1.57213717, -1.57247516, -1.57281513,\n",
       "        -1.57315684, -1.5735058 , -1.57385345, -1.57420132, -1.57455118,\n",
       "        -1.57490024, -1.57525325, -1.57560725, -1.57596183, -1.57631403,\n",
       "        -1.57667279, -1.57703092, -1.57738931, -1.57774835, -1.57811132,\n",
       "        -1.57847521, -1.57884239, -1.57920746, -1.57957251, -1.57993772,\n",
       "        -1.58030105, -1.58066862, -1.5810342 , -1.58140096, -1.58177154]),\n",
       " 'split3_test_score': array([-1.6430285 , -1.64233885, -1.64182522, -1.6417286 , -1.64164149,\n",
       "        -1.64155251, -1.64146074, -1.64136589, -1.641268  , -1.64116723,\n",
       "        -1.64106465, -1.64096245, -1.64087185, -1.64078649, -1.64072609,\n",
       "        -1.64073054, -1.64074977, -1.64076728, -1.64078323, -1.64079779,\n",
       "        -1.64081109, -1.64083516, -1.64089047, -1.64094426, -1.64099663,\n",
       "        -1.64106381, -1.64113071, -1.64119596, -1.64125964, -1.64132183,\n",
       "        -1.64138259, -1.64144199, -1.64150008, -1.64155691, -1.64161255,\n",
       "        -1.64166703, -1.6417204 , -1.64177269, -1.64182396, -1.64187423,\n",
       "        -1.64192353, -1.64197191, -1.64201938, -1.64206599, -1.64211174,\n",
       "        -1.64215668, -1.64220082, -1.64224419, -1.64228681, -1.64232869,\n",
       "        -1.64236987, -1.64241035, -1.64245016, -1.64248932, -1.64252783,\n",
       "        -1.64256573, -1.64260301, -1.6426397 , -1.64267582, -1.64271137,\n",
       "        -1.64274636, -1.64278082, -1.64281475, -1.64287034, -1.64295132,\n",
       "        -1.64304393, -1.64313561, -1.6432264 , -1.6433163 , -1.64340658,\n",
       "        -1.64350559, -1.64360375, -1.64370107, -1.64379756, -1.64389325,\n",
       "        -1.64398813, -1.64408223, -1.64417555, -1.64428468, -1.64439966,\n",
       "        -1.64451383, -1.6446272 , -1.64473978, -1.6448617 , -1.64500679,\n",
       "        -1.64515093, -1.64530191, -1.64548232, -1.64566164, -1.64583988,\n",
       "        -1.64601705, -1.64619316, -1.64636822, -1.64654224, -1.64671523,\n",
       "        -1.64688721, -1.64707204, -1.64726049, -1.64744783, -1.64763405]),\n",
       " 'split3_train_score': array([-1.57203261, -1.57217458, -1.5723304 , -1.57245185, -1.57254626,\n",
       "        -1.57266029, -1.57276476, -1.57286185, -1.57300824, -1.57317555,\n",
       "        -1.57334667, -1.57351778, -1.57368746, -1.57385286, -1.5740259 ,\n",
       "        -1.57419731, -1.57436848, -1.57455715, -1.57475834, -1.57496201,\n",
       "        -1.57516267, -1.57537772, -1.57560156, -1.57582629, -1.57606081,\n",
       "        -1.57629764, -1.5765415 , -1.57678969, -1.57704255, -1.5773098 ,\n",
       "        -1.57758466, -1.57785979, -1.57813642, -1.5784141 , -1.57868971,\n",
       "        -1.57896208, -1.57923617, -1.57950759, -1.57977607, -1.58004168,\n",
       "        -1.5803045 , -1.5805686 , -1.58084294, -1.58111651, -1.58139064,\n",
       "        -1.58166498, -1.58194662, -1.5822279 , -1.58251077, -1.58279684,\n",
       "        -1.58308287, -1.58336715, -1.58365474, -1.58395064, -1.58426046,\n",
       "        -1.58457061, -1.58488126, -1.58518931, -1.58549479, -1.58580324,\n",
       "        -1.58611821, -1.5864329 , -1.58674584, -1.5870625 , -1.58738373,\n",
       "        -1.58771053, -1.58803549, -1.58835798, -1.58867932, -1.58900483,\n",
       "        -1.58933862, -1.58967555, -1.59001109, -1.5903478 , -1.59068531,\n",
       "        -1.59102676, -1.5913761 , -1.59172994, -1.59208361, -1.5924352 ,\n",
       "        -1.59278823, -1.59314003, -1.59349791, -1.59385511, -1.59421386,\n",
       "        -1.59457977, -1.59495012, -1.59532056, -1.59568866, -1.59605578,\n",
       "        -1.5964282 , -1.59680151, -1.59717813, -1.59755317, -1.59792957,\n",
       "        -1.59830627, -1.59868189, -1.59905702, -1.59943134, -1.59980389]),\n",
       " 'split4_test_score': array([-1.44892031, -1.44789355, -1.4467798 , -1.44563609, -1.44453721,\n",
       "        -1.44347235, -1.44248246, -1.44151136, -1.44058655, -1.43975619,\n",
       "        -1.43894638, -1.43815712, -1.43738808, -1.4366387 , -1.43590831,\n",
       "        -1.43519617, -1.4345015 , -1.43382355, -1.43318773, -1.43260551,\n",
       "        -1.43203667, -1.4314806 , -1.43093669, -1.43041794, -1.4299329 ,\n",
       "        -1.42946154, -1.42900364, -1.4286108 , -1.42827969, -1.42796178,\n",
       "        -1.42765036, -1.42734514, -1.42705096, -1.426766  , -1.42648645,\n",
       "        -1.42624629, -1.42602478, -1.42580745, -1.42559413, -1.42538466,\n",
       "        -1.42517887, -1.42497663, -1.42484884, -1.42479093, -1.42473534,\n",
       "        -1.42468195, -1.42463066, -1.42458139, -1.42453402, -1.42448848,\n",
       "        -1.42444469, -1.42443173, -1.42442118, -1.42441182, -1.42440358,\n",
       "        -1.42439643, -1.42439029, -1.42438513, -1.4243809 , -1.42437756,\n",
       "        -1.42439907, -1.42443212, -1.42446506, -1.42449787, -1.42453056,\n",
       "        -1.42456312, -1.42459554, -1.42462783, -1.42465998, -1.42469199,\n",
       "        -1.42472386, -1.42475558, -1.42478716, -1.42483547, -1.42489491,\n",
       "        -1.42495778, -1.42505702, -1.42515568, -1.42525376, -1.42535126,\n",
       "        -1.42544819, -1.42554455, -1.42564035, -1.42573559, -1.42583027,\n",
       "        -1.4259244 , -1.42601799, -1.42611103, -1.42620353, -1.4262955 ,\n",
       "        -1.42641255, -1.42654067, -1.42666807, -1.42679474, -1.42692069,\n",
       "        -1.42704594, -1.42717047, -1.42729431, -1.42741746, -1.42753991]),\n",
       " 'split4_train_score': array([-1.59376727, -1.59374099, -1.59380494, -1.59389507, -1.59404222,\n",
       "        -1.59419996, -1.59435722, -1.59451234, -1.59468273, -1.59488039,\n",
       "        -1.59506936, -1.59525044, -1.59542466, -1.59560355, -1.59579772,\n",
       "        -1.59600463, -1.59621359, -1.59642167, -1.59662594, -1.5968311 ,\n",
       "        -1.59704104, -1.59725924, -1.59747976, -1.59770016, -1.59791705,\n",
       "        -1.59813063, -1.59834476, -1.59856064, -1.59878326, -1.59900644,\n",
       "        -1.59923227, -1.59945933, -1.59969352, -1.59992882, -1.60017306,\n",
       "        -1.60042234, -1.60067577, -1.6009264 , -1.60117687, -1.60142726,\n",
       "        -1.60168288, -1.60195135, -1.60222834, -1.60250619, -1.60279023,\n",
       "        -1.603085  , -1.60338624, -1.60369786, -1.60400695, -1.60431404,\n",
       "        -1.6046197 , -1.60492484, -1.60523246, -1.6055387 , -1.60584373,\n",
       "        -1.60614608, -1.60644581, -1.60674821, -1.60705591, -1.60736484,\n",
       "        -1.60767218, -1.60798374, -1.60829941, -1.60861247, -1.6089242 ,\n",
       "        -1.60923943, -1.60955704, -1.60987357, -1.61019151, -1.6105106 ,\n",
       "        -1.61083859, -1.61116936, -1.6114976 , -1.61182501, -1.61215722,\n",
       "        -1.61249413, -1.61283873, -1.613187  , -1.61353485, -1.6138855 ,\n",
       "        -1.61423468, -1.614592  , -1.61494678, -1.61529955, -1.61565399,\n",
       "        -1.61600728, -1.61636225, -1.61671964, -1.61707533, -1.61743521,\n",
       "        -1.61779904, -1.61816297, -1.61852663, -1.61888976, -1.6192505 ,\n",
       "        -1.61961151, -1.61997313, -1.62033242, -1.62069228, -1.62105043]),\n",
       " 'split5_test_score': array([-1.63832593, -1.63731715, -1.63640979, -1.63557239, -1.63478654,\n",
       "        -1.63404071, -1.63337413, -1.63273664, -1.63212106, -1.63152465,\n",
       "        -1.63094532, -1.63038141, -1.62983159, -1.62929478, -1.62877007,\n",
       "        -1.62825666, -1.62775391, -1.62726121, -1.62677806, -1.626304  ,\n",
       "        -1.6258386 , -1.62538149, -1.62493233, -1.6244908 , -1.62405662,\n",
       "        -1.62364355, -1.62325753, -1.62287893, -1.62250747, -1.62214287,\n",
       "        -1.62178491, -1.62143334, -1.62108796, -1.62074855, -1.62041492,\n",
       "        -1.62008689, -1.61976428, -1.61944693, -1.61913467, -1.61882735,\n",
       "        -1.61852483, -1.61822697, -1.61793364, -1.61764471, -1.61736006,\n",
       "        -1.61710514, -1.6169089 , -1.61671577, -1.61655006, -1.61639318,\n",
       "        -1.61623879, -1.61608683, -1.61593724, -1.61578994, -1.61564489,\n",
       "        -1.61550202, -1.61536128, -1.6152226 , -1.61508594, -1.61495347,\n",
       "        -1.61482367, -1.61469576, -1.6145697 , -1.61444544, -1.61432294,\n",
       "        -1.61421271, -1.61415454, -1.61409756, -1.61404173, -1.6139891 ,\n",
       "        -1.61398618, -1.61398404, -1.61398266, -1.61398201, -1.61398207,\n",
       "        -1.61398282, -1.61398423, -1.61398628, -1.61399778, -1.614025  ,\n",
       "        -1.61405908, -1.61413485, -1.61421057, -1.61428623, -1.61436181,\n",
       "        -1.61443731, -1.61451272, -1.61458803, -1.61466325, -1.61474904,\n",
       "        -1.61486183, -1.61497428, -1.61508639, -1.61519815, -1.61531433,\n",
       "        -1.61544139, -1.61556791, -1.61569391, -1.61581937, -1.61594431]),\n",
       " 'split5_train_score': array([-1.57089067, -1.57090886, -1.57094379, -1.57097193, -1.57103936,\n",
       "        -1.57112428, -1.57121909, -1.57131862, -1.57143949, -1.57156733,\n",
       "        -1.57169486, -1.57181829, -1.57195562, -1.57210214, -1.57225598,\n",
       "        -1.57241712, -1.57258166, -1.57275186, -1.57292758, -1.57311868,\n",
       "        -1.57330781, -1.57349804, -1.57368911, -1.57388438, -1.57408619,\n",
       "        -1.57428739, -1.57449532, -1.57471742, -1.57494202, -1.57516899,\n",
       "        -1.57539723, -1.57562337, -1.57585254, -1.57608401, -1.5763169 ,\n",
       "        -1.5765517 , -1.57679182, -1.57703863, -1.57729913, -1.57757083,\n",
       "        -1.57784222, -1.57811567, -1.57839331, -1.57866931, -1.57894333,\n",
       "        -1.57921619, -1.5794904 , -1.57977161, -1.580058  , -1.58035283,\n",
       "        -1.58066533, -1.58098039, -1.58129642, -1.5816107 , -1.58192576,\n",
       "        -1.58224095, -1.58255351, -1.58286479, -1.58317976, -1.58349685,\n",
       "        -1.58381965, -1.5841484 , -1.58448083, -1.58481838, -1.58515465,\n",
       "        -1.58549322, -1.58583649, -1.58618707, -1.58654221, -1.58689855,\n",
       "        -1.58725298, -1.58760952, -1.5879658 , -1.58832655, -1.58868501,\n",
       "        -1.58904566, -1.58940462, -1.58976325, -1.59011985, -1.590477  ,\n",
       "        -1.59083261, -1.59119136, -1.59155669, -1.59192456, -1.59229035,\n",
       "        -1.59266535, -1.59303852, -1.59341036, -1.59378387, -1.59415719,\n",
       "        -1.59452803, -1.59489644, -1.59526421, -1.59563128, -1.5959966 ,\n",
       "        -1.59636132, -1.59672796, -1.59709637, -1.59746708, -1.59783543]),\n",
       " 'split6_test_score': array([-1.4219917 , -1.42121705, -1.42052588, -1.41988909, -1.41937519,\n",
       "        -1.41906056, -1.41876302, -1.41847635, -1.41819934, -1.41798172,\n",
       "        -1.41778901, -1.41760258, -1.41742208, -1.41724719, -1.41709606,\n",
       "        -1.41700407, -1.41691617, -1.41685844, -1.41681098, -1.4167723 ,\n",
       "        -1.41677329, -1.41677775, -1.41678554, -1.41679654, -1.41681061,\n",
       "        -1.41682764, -1.41684752, -1.41687014, -1.41690886, -1.41695964,\n",
       "        -1.41701251, -1.41708088, -1.41715499, -1.41723079, -1.41730821,\n",
       "        -1.41738717, -1.41748782, -1.41761471, -1.41774239, -1.41787084,\n",
       "        -1.41799999, -1.41812981, -1.41826024, -1.41839125, -1.41855103,\n",
       "        -1.41871525, -1.41887971, -1.41904437, -1.41920921, -1.4193742 ,\n",
       "        -1.41953931, -1.41970451, -1.41986977, -1.42003507, -1.4202004 ,\n",
       "        -1.42036572, -1.42053101, -1.42069626, -1.42086144, -1.42102653,\n",
       "        -1.42119153, -1.4213564 , -1.42152114, -1.42169824, -1.42192549,\n",
       "        -1.42215206, -1.42237796, -1.42260318, -1.42282771, -1.42305154,\n",
       "        -1.42327467, -1.4234971 , -1.42371882, -1.42393982, -1.42416109,\n",
       "        -1.42439493, -1.42462795, -1.42486012, -1.42509146, -1.42532196,\n",
       "        -1.42555162, -1.42578044, -1.42600842, -1.42623556, -1.42646186,\n",
       "        -1.4267007 , -1.42695297, -1.42720421, -1.42746341, -1.42772524,\n",
       "        -1.42798597, -1.42824562, -1.42850578, -1.42879832, -1.42912578,\n",
       "        -1.42945167, -1.429776  , -1.43009879, -1.43042004, -1.43073977]),\n",
       " 'split6_train_score': array([-1.60076219, -1.6007836 , -1.60083632, -1.60089104, -1.6009285 ,\n",
       "        -1.60099128, -1.60104162, -1.6011094 , -1.60119781, -1.6013039 ,\n",
       "        -1.60140456, -1.60151371, -1.60164311, -1.60177966, -1.60191783,\n",
       "        -1.60205618, -1.60219174, -1.60234283, -1.60249309, -1.60263947,\n",
       "        -1.60279175, -1.60295485, -1.6031197 , -1.60328766, -1.60346082,\n",
       "        -1.60363259, -1.60380758, -1.60398815, -1.60417344, -1.60436198,\n",
       "        -1.60454863, -1.60474153, -1.60493517, -1.60513057, -1.60532814,\n",
       "        -1.60552736, -1.60573217, -1.60594386, -1.60616769, -1.60639473,\n",
       "        -1.60662904, -1.60686979, -1.60711492, -1.60736857, -1.60762775,\n",
       "        -1.60789305, -1.6081646 , -1.60843327, -1.60869913, -1.60896225,\n",
       "        -1.60922951, -1.60950036, -1.60977003, -1.61003968, -1.61031062,\n",
       "        -1.61058632, -1.61087177, -1.61116344, -1.61145251, -1.61174143,\n",
       "        -1.61203224, -1.61232227, -1.61261337, -1.61290523, -1.61319621,\n",
       "        -1.61348708, -1.61378047, -1.61407581, -1.61437124, -1.61467506,\n",
       "        -1.6149849 , -1.61529563, -1.61561118, -1.61592934, -1.61625615,\n",
       "        -1.61658053, -1.61690254, -1.61722219, -1.61753953, -1.6178549 ,\n",
       "        -1.61817641, -1.61850223, -1.61883346, -1.61916239, -1.61948903,\n",
       "        -1.61981776, -1.62014748, -1.62047693, -1.62080569, -1.62113341,\n",
       "        -1.62145963, -1.6217875 , -1.62211782, -1.62244853, -1.62277919,\n",
       "        -1.62310794, -1.62343458, -1.62375914, -1.62408473, -1.62441081]),\n",
       " 'split7_test_score': array([-1.57660822, -1.57468545, -1.57314924, -1.57187154, -1.57077823,\n",
       "        -1.56982304, -1.56897524, -1.56827081, -1.5676597 , -1.56709277,\n",
       "        -1.56656408, -1.56606889, -1.56560334, -1.56516423, -1.56477724,\n",
       "        -1.56449855, -1.56430045, -1.56411842, -1.56395098, -1.56379685,\n",
       "        -1.56365494, -1.56353863, -1.56347555, -1.56342023, -1.56337206,\n",
       "        -1.56333053, -1.56329515, -1.5632655 , -1.5632412 , -1.56322187,\n",
       "        -1.56320721, -1.56319691, -1.5631907 , -1.56318833, -1.56318957,\n",
       "        -1.56319422, -1.56320206, -1.56321292, -1.56322663, -1.56324303,\n",
       "        -1.56326197, -1.56328332, -1.5633581 , -1.56345068, -1.56354474,\n",
       "        -1.5636402 , -1.56373695, -1.56383492, -1.56393404, -1.56403422,\n",
       "        -1.56413539, -1.5642375 , -1.56437549, -1.5645142 , -1.56465313,\n",
       "        -1.56479222, -1.5649433 , -1.56509908, -1.56525494, -1.56543253,\n",
       "        -1.5656701 , -1.56590654, -1.56614184, -1.56637601, -1.56662096,\n",
       "        -1.5668692 , -1.56711622, -1.56739729, -1.56771748, -1.5681094 ,\n",
       "        -1.56851343, -1.56891515, -1.56931455, -1.56971166, -1.57010651,\n",
       "        -1.57049911, -1.57088948, -1.57127763, -1.5716636 , -1.57204739,\n",
       "        -1.57242903, -1.57280853, -1.57318591, -1.57356119, -1.57393439,\n",
       "        -1.57430552, -1.57467461, -1.57504167, -1.57540671, -1.57576976,\n",
       "        -1.57613083, -1.57648994, -1.5768471 , -1.57720233, -1.57755565,\n",
       "        -1.57790706, -1.5782566 , -1.57860427, -1.57895148, -1.57930923]),\n",
       " 'split7_train_score': array([-1.58145738, -1.58164697, -1.58186301, -1.58204399, -1.58221466,\n",
       "        -1.58238937, -1.5825723 , -1.58276739, -1.58297128, -1.58317766,\n",
       "        -1.5833752 , -1.58357842, -1.58378437, -1.58398619, -1.58418434,\n",
       "        -1.58438953, -1.58460066, -1.58481173, -1.58502613, -1.58524807,\n",
       "        -1.58547337, -1.5857029 , -1.58592993, -1.58615542, -1.58639059,\n",
       "        -1.58663478, -1.58688831, -1.58714575, -1.58739869, -1.58765394,\n",
       "        -1.58790927, -1.58817001, -1.58843094, -1.58868909, -1.58895444,\n",
       "        -1.58922608, -1.58950105, -1.58978291, -1.59007194, -1.5903652 ,\n",
       "        -1.59065906, -1.59094934, -1.59123776, -1.59152675, -1.59181246,\n",
       "        -1.59210939, -1.59241689, -1.59272158, -1.59302796, -1.59333253,\n",
       "        -1.59363447, -1.59393455, -1.59424299, -1.59455635, -1.59486844,\n",
       "        -1.59518035, -1.59549011, -1.59581064, -1.5961371 , -1.59646394,\n",
       "        -1.59679219, -1.59712492, -1.59745481, -1.5977819 , -1.59810687,\n",
       "        -1.59843241, -1.59875526, -1.59907724, -1.59940025, -1.59972121,\n",
       "        -1.60004203, -1.60036863, -1.60069634, -1.60102249, -1.6013518 ,\n",
       "        -1.6016811 , -1.60200802, -1.602337  , -1.60267111, -1.60300279,\n",
       "        -1.60333257, -1.60366031, -1.60398658, -1.60431258, -1.60464081,\n",
       "        -1.60497088, -1.60530173, -1.60563383, -1.60596618, -1.60629866,\n",
       "        -1.60662996, -1.60696243, -1.60729268, -1.60762076, -1.60794682,\n",
       "        -1.60827501, -1.60861322, -1.60895395, -1.60929292, -1.6096297 ]),\n",
       " 'split8_test_score': array([-1.52632057, -1.52581633, -1.52534702, -1.52483304, -1.52434862,\n",
       "        -1.52391473, -1.52361017, -1.52339919, -1.52318055, -1.52295895,\n",
       "        -1.52274174, -1.52258956, -1.52243934, -1.52229222, -1.52214894,\n",
       "        -1.52201001, -1.52187571, -1.52174624, -1.52162165, -1.52150196,\n",
       "        -1.52138712, -1.52127705, -1.52117165, -1.52107079, -1.52098743,\n",
       "        -1.52091529, -1.52084707, -1.52078262, -1.52072181, -1.5206645 ,\n",
       "        -1.52061057, -1.52055989, -1.52051701, -1.52051564, -1.5205239 ,\n",
       "        -1.52053478, -1.52054817, -1.52056396, -1.52058202, -1.52060226,\n",
       "        -1.52062458, -1.52064889, -1.52067509, -1.52070309, -1.52073282,\n",
       "        -1.52076419, -1.52079713, -1.52083158, -1.52086745, -1.52093171,\n",
       "        -1.52102547, -1.52112033, -1.52121624, -1.52132631, -1.5214706 ,\n",
       "        -1.52163508, -1.52184703, -1.52205902, -1.52227101, -1.52248296,\n",
       "        -1.52269484, -1.52290661, -1.52311824, -1.52332969, -1.52354093,\n",
       "        -1.52377181, -1.52401276, -1.52425295, -1.52449239, -1.52473105,\n",
       "        -1.52496892, -1.525206  , -1.52544227, -1.52567772, -1.52591235,\n",
       "        -1.52614615, -1.52637911, -1.52662374, -1.52689628, -1.52716761,\n",
       "        -1.52743774, -1.52770667, -1.52797439, -1.52824091, -1.52850624,\n",
       "        -1.52877036, -1.5290333 , -1.52929504, -1.52957822, -1.52988433,\n",
       "        -1.5301904 , -1.53049505, -1.53079829, -1.53110012, -1.53140055,\n",
       "        -1.53169958, -1.53199722, -1.53229347, -1.53258835, -1.53288185]),\n",
       " 'split8_train_score': array([-1.58812605, -1.58803008, -1.58800355, -1.58803818, -1.58809383,\n",
       "        -1.58817159, -1.58828103, -1.58838551, -1.58849004, -1.58860307,\n",
       "        -1.58871542, -1.58882605, -1.58894473, -1.58909225, -1.58925846,\n",
       "        -1.58942437, -1.58959421, -1.58976789, -1.58994388, -1.59011725,\n",
       "        -1.59028815, -1.59045672, -1.59062307, -1.59079562, -1.59099037,\n",
       "        -1.59119565, -1.59140667, -1.59161983, -1.59183288, -1.59204979,\n",
       "        -1.59227471, -1.59251581, -1.59276969, -1.59302611, -1.59328481,\n",
       "        -1.59354271, -1.59379787, -1.59405198, -1.594308  , -1.59456893,\n",
       "        -1.59482801, -1.59508558, -1.59534227, -1.59559863, -1.59586287,\n",
       "        -1.59613851, -1.59641575, -1.59669988, -1.59698879, -1.59727977,\n",
       "        -1.59756816, -1.597854  , -1.59813808, -1.59842072, -1.59870094,\n",
       "        -1.59898232, -1.59926207, -1.59953942, -1.59981696, -1.60009684,\n",
       "        -1.60037632, -1.60065545, -1.60093574, -1.60122065, -1.60151174,\n",
       "        -1.60181092, -1.60210938, -1.60240841, -1.60271201, -1.60302268,\n",
       "        -1.6033377 , -1.60365451, -1.60397352, -1.60429322, -1.60461315,\n",
       "        -1.60493093, -1.60525563, -1.60558584, -1.60591977, -1.60625286,\n",
       "        -1.60658393, -1.60691443, -1.60724712, -1.60758213, -1.60791503,\n",
       "        -1.60824871, -1.60858345, -1.60891971, -1.60925717, -1.609595  ,\n",
       "        -1.60993829, -1.61027982, -1.6106198 , -1.61096321, -1.6113122 ,\n",
       "        -1.61166262, -1.61202211, -1.61237978, -1.61273596, -1.61309161]),\n",
       " 'split9_test_score': array([-1.66398947, -1.663698  , -1.66344327, -1.6632757 , -1.66321057,\n",
       "        -1.66324698, -1.66333497, -1.66346463, -1.66366954, -1.6640036 ,\n",
       "        -1.66435334, -1.66472261, -1.66515343, -1.66559571, -1.66604824,\n",
       "        -1.66650993, -1.66697977, -1.66745684, -1.6679403 , -1.66842939,\n",
       "        -1.66892342, -1.66942174, -1.6699238 , -1.67042906, -1.67093705,\n",
       "        -1.67144733, -1.67195951, -1.67247322, -1.67298814, -1.67350396,\n",
       "        -1.67402041, -1.67453724, -1.67505422, -1.67557113, -1.67610526,\n",
       "        -1.67664682, -1.67718772, -1.67772781, -1.67826694, -1.678805  ,\n",
       "        -1.67937115, -1.67995347, -1.68053458, -1.68111438, -1.68169277,\n",
       "        -1.68226966, -1.68284497, -1.68341861, -1.68399053, -1.68456065,\n",
       "        -1.68512892, -1.68569528, -1.68626422, -1.68684466, -1.68742297,\n",
       "        -1.68800053, -1.68860571, -1.6892085 , -1.68980885, -1.6904203 ,\n",
       "        -1.69105865, -1.69169409, -1.69232663, -1.69295624, -1.69359003,\n",
       "        -1.69422265, -1.69485239, -1.69547926, -1.69610326, -1.69672438,\n",
       "        -1.69734263, -1.697958  , -1.69857051, -1.69918015, -1.69978693,\n",
       "        -1.70039086, -1.70099194, -1.70159018, -1.70218559, -1.70277817,\n",
       "        -1.70336794, -1.7039549 , -1.70453907, -1.70512045, -1.70569906,\n",
       "        -1.70627491, -1.706848  , -1.70741836, -1.70799385, -1.70859918,\n",
       "        -1.70920158, -1.70980106, -1.71039766, -1.71099137, -1.71158221,\n",
       "        -1.71217033, -1.71279627, -1.71341914, -1.71403898, -1.71465579]),\n",
       " 'split9_train_score': array([-1.57245239, -1.57249361, -1.57257872, -1.5726489 , -1.5727366 ,\n",
       "        -1.57283941, -1.57292819, -1.57301346, -1.57308912, -1.57316634,\n",
       "        -1.57325766, -1.57335737, -1.57345255, -1.5735446 , -1.57364013,\n",
       "        -1.57374731, -1.57385787, -1.5739735 , -1.57409332, -1.57421332,\n",
       "        -1.57434108, -1.57447285, -1.57460705, -1.57474511, -1.57488587,\n",
       "        -1.57503419, -1.57518376, -1.57534203, -1.57549939, -1.57566174,\n",
       "        -1.57583127, -1.5760099 , -1.5761866 , -1.57638004, -1.57658614,\n",
       "        -1.57679272, -1.57700784, -1.5772332 , -1.57746969, -1.57770343,\n",
       "        -1.57793448, -1.57816361, -1.5783933 , -1.57862245, -1.57885676,\n",
       "        -1.57910058, -1.57935097, -1.57960578, -1.57985808, -1.58011576,\n",
       "        -1.58037168, -1.58062519, -1.5808776 , -1.58114015, -1.58140872,\n",
       "        -1.58167938, -1.5819483 , -1.58222623, -1.58250438, -1.5827802 ,\n",
       "        -1.58305375, -1.58332929, -1.58360853, -1.58388766, -1.58416449,\n",
       "        -1.58443906, -1.58471151, -1.5849849 , -1.58526234, -1.5855449 ,\n",
       "        -1.58583542, -1.58613166, -1.58643676, -1.58674314, -1.58704721,\n",
       "        -1.58734901, -1.58765317, -1.58796958, -1.58829247, -1.58861633,\n",
       "        -1.58893895, -1.58925992, -1.58957943, -1.58989672, -1.5902118 ,\n",
       "        -1.590528  , -1.59084286, -1.59115557, -1.59146615, -1.5917758 ,\n",
       "        -1.59209033, -1.59241088, -1.59272956, -1.59304776, -1.59337011,\n",
       "        -1.59369204, -1.59401522, -1.59433829, -1.59466082, -1.5949834 ]),\n",
       " 'std_fit_time': array([6.87420162e-02, 7.93973246e-07, 7.65516175e-03, 8.41382437e-03,\n",
       "        1.32167302e-02, 6.97457865e-03, 8.03963123e-03, 5.44060594e-03,\n",
       "        2.65412176e-03, 7.28356365e-03, 6.79896683e-03, 8.27820106e-03,\n",
       "        4.68678474e-03, 9.37496826e-03, 6.98760587e-03, 7.81230929e-03,\n",
       "        1.03642009e-02, 1.09374864e-02, 4.68761139e-03, 7.15988959e-03,\n",
       "        7.16041508e-03, 6.25002397e-03, 7.81254771e-03, 6.25028611e-03,\n",
       "        1.00040997e-02, 8.41412978e-03, 8.41413413e-03, 1.00048668e-02,\n",
       "        4.68754771e-03, 4.68731768e-03, 7.16029100e-03, 7.65594101e-03,\n",
       "        8.41422732e-03, 1.00049375e-02, 1.05039553e-06, 6.98957891e-03,\n",
       "        4.68679342e-03, 8.41437346e-03, 9.88219310e-03, 8.41472734e-03,\n",
       "        1.00052801e-02, 8.41435564e-03, 1.09375853e-02, 7.16025911e-03,\n",
       "        1.63607964e-06, 6.25025104e-03, 6.25026298e-03, 7.16125802e-03,\n",
       "        7.65483069e-03, 7.16016542e-03, 9.37477754e-03, 1.21032577e-02,\n",
       "        6.25019076e-03, 7.65465545e-03, 7.65479173e-03, 4.68755590e-03,\n",
       "        7.65469444e-03, 7.65471395e-03, 4.68657931e-03, 7.65467569e-03,\n",
       "        7.81235701e-03, 1.59580236e-06, 6.24994045e-03, 6.98765952e-03,\n",
       "        1.00060138e-02, 7.16016597e-03, 7.65442196e-03, 7.81266718e-03,\n",
       "        4.68914509e-03, 4.68591899e-03, 4.68737306e-03, 1.79330448e-03,\n",
       "        6.55733292e-03, 1.10963138e-02, 2.53251492e-03, 7.65444136e-03,\n",
       "        7.16039961e-03, 7.81190413e-03, 4.68775451e-03, 9.37519873e-03,\n",
       "        7.81264311e-03, 9.37517489e-03, 1.42732902e-06, 4.68756397e-03,\n",
       "        7.65515197e-03, 2.67241598e-06, 4.68837477e-03, 2.35491910e-06,\n",
       "        6.98781951e-03, 7.65436349e-03, 6.24997635e-03, 4.68849355e-03,\n",
       "        7.65471395e-03, 7.65492800e-03, 6.25000013e-03, 4.68765927e-03,\n",
       "        1.80962686e-06, 7.65500596e-03, 6.25025045e-03, 7.16025899e-03]),\n",
       " 'std_score_time': array([0.00119998, 0.        , 0.004688  , 0.0071598 , 0.00651344,\n",
       "        0.00239986, 0.00195945, 0.00215348, 0.00256118, 0.00470804,\n",
       "        0.00470804, 0.00706277, 0.00716021, 0.00468764, 0.00468714,\n",
       "        0.        , 0.00468764, 0.00468779, 0.        , 0.00468736,\n",
       "        0.00715991, 0.        , 0.00468793, 0.00716013, 0.00625033,\n",
       "        0.00468743, 0.        , 0.00468743, 0.        , 0.00624962,\n",
       "        0.        , 0.00625014, 0.        , 0.00468764, 0.00468764,\n",
       "        0.00624967, 0.00625   , 0.00624952, 0.        , 0.        ,\n",
       "        0.00716017, 0.00781255, 0.00765466, 0.00468736, 0.        ,\n",
       "        0.00624952, 0.00468714, 0.00716035, 0.0046855 , 0.00468764,\n",
       "        0.00716027, 0.00468736, 0.        , 0.00625062, 0.        ,\n",
       "        0.0046875 , 0.00716024, 0.00716013, 0.        , 0.00625072,\n",
       "        0.00765428, 0.        , 0.        , 0.        , 0.004685  ,\n",
       "        0.        , 0.00468714, 0.        , 0.00715976, 0.        ,\n",
       "        0.00625   , 0.        , 0.00492133, 0.00169774, 0.00470748,\n",
       "        0.00468843, 0.00468786, 0.00625119, 0.00468585, 0.00716006,\n",
       "        0.00716007, 0.00468678, 0.        , 0.        , 0.00468764,\n",
       "        0.        , 0.        , 0.        , 0.00468743, 0.00625024,\n",
       "        0.00468764, 0.        , 0.00716013, 0.        , 0.        ,\n",
       "        0.        , 0.00625   , 0.00716035, 0.00468764, 0.00468764]),\n",
       " 'std_test_score': array([0.11677959, 0.11661024, 0.11652833, 0.11649738, 0.11646407,\n",
       "        0.11641223, 0.11641107, 0.11646387, 0.11652343, 0.11658707,\n",
       "        0.11665315, 0.11671979, 0.11679355, 0.11687154, 0.11694961,\n",
       "        0.11702677, 0.11711089, 0.11719308, 0.11727278, 0.11735032,\n",
       "        0.11742451, 0.11750619, 0.11759091, 0.11767458, 0.11775469,\n",
       "        0.11783518, 0.11791636, 0.11799371, 0.1180612 , 0.11813071,\n",
       "        0.11820431, 0.11827623, 0.11835054, 0.11842867, 0.11850871,\n",
       "        0.11858741, 0.11866175, 0.11873273, 0.11880624, 0.11889001,\n",
       "        0.11898546, 0.11908769, 0.1191789 , 0.11925928, 0.11934805,\n",
       "        0.11944554, 0.1195433 , 0.11964099, 0.11973871, 0.11983431,\n",
       "        0.11992767, 0.12001635, 0.12010367, 0.12019109, 0.12027945,\n",
       "        0.12036629, 0.12045091, 0.12053523, 0.12061945, 0.12070357,\n",
       "        0.12078339, 0.12086343, 0.12094539, 0.12102994, 0.12111287,\n",
       "        0.12119803, 0.12128352, 0.12137121, 0.12145781, 0.12154529,\n",
       "        0.12163324, 0.12172418, 0.12181661, 0.12190756, 0.12199635,\n",
       "        0.1220836 , 0.12216621, 0.1222477 , 0.12232723, 0.12240668,\n",
       "        0.12248591, 0.12256483, 0.12264353, 0.12272223, 0.12280123,\n",
       "        0.1228779 , 0.12295228, 0.1230271 , 0.12309982, 0.12317504,\n",
       "        0.12324578, 0.12331723, 0.12338836, 0.12345402, 0.12351382,\n",
       "        0.1235734 , 0.12363609, 0.1236987 , 0.1237611 , 0.12383109]),\n",
       " 'std_train_score': array([0.01433241, 0.01427744, 0.01426044, 0.01424163, 0.01422808,\n",
       "        0.01422297, 0.01421874, 0.01421459, 0.01421139, 0.01421363,\n",
       "        0.01421151, 0.01420358, 0.01419926, 0.01419989, 0.01420373,\n",
       "        0.01420806, 0.01420958, 0.01421036, 0.01420992, 0.01420911,\n",
       "        0.01420863, 0.01420836, 0.01420717, 0.01420506, 0.01420394,\n",
       "        0.01420268, 0.01419947, 0.01419617, 0.01419311, 0.01418978,\n",
       "        0.01418689, 0.01418663, 0.01418814, 0.01418829, 0.01418847,\n",
       "        0.01418787, 0.01418597, 0.01418319, 0.01418277, 0.01418316,\n",
       "        0.01418517, 0.01418855, 0.01419387, 0.01420057, 0.01420787,\n",
       "        0.0142155 , 0.01422406, 0.01423342, 0.0142419 , 0.01424562,\n",
       "        0.01424826, 0.01425169, 0.0142545 , 0.01425519, 0.01425546,\n",
       "        0.01425575, 0.01425706, 0.01425932, 0.01426133, 0.01426145,\n",
       "        0.01425828, 0.01425364, 0.01424833, 0.01424242, 0.01423571,\n",
       "        0.01422942, 0.01422291, 0.01421536, 0.01420741, 0.01419915,\n",
       "        0.01419236, 0.01418558, 0.01417923, 0.01417375, 0.01417095,\n",
       "        0.01416758, 0.01416311, 0.01415804, 0.01415175, 0.01414458,\n",
       "        0.01413831, 0.01413317, 0.01412789, 0.01412193, 0.0141164 ,\n",
       "        0.01410959, 0.01410363, 0.01409857, 0.0140929 , 0.01408737,\n",
       "        0.01408237, 0.01407679, 0.01407209, 0.01406786, 0.01406359,\n",
       "        0.01405931, 0.01405513, 0.01405061, 0.01404613, 0.01403963])}"
      ]
     },
     "execution_count": 72,
     "metadata": {},
     "output_type": "execute_result"
    }
   ],
   "source": [
    "grid_search.cv_results_"
   ]
  },
  {
   "cell_type": "code",
   "execution_count": null,
   "metadata": {},
   "outputs": [],
   "source": []
  },
  {
   "cell_type": "code",
   "execution_count": null,
   "metadata": {},
   "outputs": [],
   "source": [
    "x_train2=ld_train2.drop(['Interest.Rate'],axis=1)\n",
    "y_train2=ld_train2['Interest.Rate']"
   ]
  },
  {
   "cell_type": "code",
   "execution_count": null,
   "metadata": {},
   "outputs": [],
   "source": [
    "lm.fit(x_train1,y_train1)"
   ]
  },
  {
   "cell_type": "code",
   "execution_count": null,
   "metadata": {},
   "outputs": [],
   "source": [
    "predict_val=lm.predict(x_train2)"
   ]
  },
  {
   "cell_type": "code",
   "execution_count": null,
   "metadata": {},
   "outputs": [],
   "source": [
    "mae=mean_absolute_error(y_train2,predict_val)\n",
    "mae"
   ]
  },
  {
   "cell_type": "code",
   "execution_count": null,
   "metadata": {},
   "outputs": [],
   "source": [
    "error=y_train2-predict_val"
   ]
  },
  {
   "cell_type": "code",
   "execution_count": null,
   "metadata": {},
   "outputs": [],
   "source": [
    "rmse=np.sqrt(np.dot(error,error)/len(predict_val))\n",
    "rmse"
   ]
  },
  {
   "cell_type": "code",
   "execution_count": null,
   "metadata": {},
   "outputs": [],
   "source": [
    "x_train=ld_train.drop(['Interest.Rate'],axis=1)\n",
    "y_train=ld_train['Interest.Rate']"
   ]
  },
  {
   "cell_type": "code",
   "execution_count": null,
   "metadata": {},
   "outputs": [],
   "source": [
    "lm.fit(x_train,y_train)"
   ]
  },
  {
   "cell_type": "code",
   "execution_count": null,
   "metadata": {},
   "outputs": [],
   "source": [
    "predict_ir=lm.predict(ld_test)"
   ]
  },
  {
   "cell_type": "markdown",
   "metadata": {},
   "source": [
    "# Ridge Regression"
   ]
  },
  {
   "cell_type": "code",
   "execution_count": null,
   "metadata": {},
   "outputs": [],
   "source": [
    "lambdas=np.linspace(1,100,100)"
   ]
  },
  {
   "cell_type": "code",
   "execution_count": null,
   "metadata": {},
   "outputs": [],
   "source": [
    "ld_train.reset_index(inplace=True,drop=True)"
   ]
  },
  {
   "cell_type": "code",
   "execution_count": null,
   "metadata": {},
   "outputs": [],
   "source": [
    "x_train=ld_train.drop(['Interest.Rate'],axis=1)\n",
    "y_train=ld_train['Interest.Rate']"
   ]
  },
  {
   "cell_type": "code",
   "execution_count": null,
   "metadata": {},
   "outputs": [],
   "source": [
    "mae_list=[]\n",
    "for a in lambdas:\n",
    "    ridge=Ridge(fit_intercept=True,alpha=a)\n",
    "    kf=KFold(n_splits=10)\n",
    "    xval_err=0\n",
    "    for train,test in kf.split(x_train):\n",
    "        ridge.fit(x_train.loc[train],y_train)\n",
    "        p=ridge.predict(x_train.loc[test])\n",
    "        xval_err+=mean_absolute_error(y_train[test],p)\n",
    "    \n",
    "    mae10_cv=xval_err/10\n",
    "    print(a,':',mae10_cv)\n",
    "    mae_list.extend([mae10_cv])\n",
    "        "
   ]
  },
  {
   "cell_type": "code",
   "execution_count": null,
   "metadata": {},
   "outputs": [],
   "source": [
    "best_alppha=lambdas[mae_list==min(mae_list)]\n",
    "print('Aplha with min 10cv error is',best_alpha)"
   ]
  },
  {
   "cell_type": "code",
   "execution_count": null,
   "metadata": {},
   "outputs": [],
   "source": []
  },
  {
   "cell_type": "code",
   "execution_count": null,
   "metadata": {},
   "outputs": [],
   "source": [
    "from sklearn.linear_model import Ridge,Lasso\n",
    "from sklearn.model_selection import KFold"
   ]
  },
  {
   "cell_type": "code",
   "execution_count": null,
   "metadata": {},
   "outputs": [],
   "source": [
    "lambdas=np.linspace(1,100,100)"
   ]
  },
  {
   "cell_type": "code",
   "execution_count": null,
   "metadata": {},
   "outputs": [],
   "source": [
    "ld_train.reset_index(inplace=True,drop=True)"
   ]
  },
  {
   "cell_type": "code",
   "execution_count": null,
   "metadata": {},
   "outputs": [],
   "source": [
    "x_train=ld_train.drop(['Interest.Rate'],axis=1)\n",
    "y_train=ld_train['Interest.Rate']"
   ]
  },
  {
   "cell_type": "code",
   "execution_count": null,
   "metadata": {},
   "outputs": [],
   "source": [
    "mae_list=[]\n",
    "for a in lambdas:\n",
    "    ridge=Ridge(fit_intercept=True,alpha=a)\n",
    "    kf=KFold(n_splits=10)\n",
    "    xval_err=0\n",
    "    \n",
    "    for train,test in kf.split(x_train):\n",
    "        ridge.fit(x_train.loc[train],y_train[train])\n",
    "        p=ridge.predict(x_train.loc[test])\n",
    "        xval_err+=mean_absolute_error(y_train[test],p)\n",
    "    \n",
    "    mae_10cv=xval_err/10\n",
    "    print(a,':',mae_10cv)\n",
    "    mae_list.extend([mae_10cv])\n",
    "    \n",
    "      "
   ]
  },
  {
   "cell_type": "code",
   "execution_count": null,
   "metadata": {},
   "outputs": [],
   "source": [
    "best_alpha=lambdas[mae_list==min(mae_list)]\n",
    "print('value of Alpha with min mean absolute error',min(mae_list),best_alpha)"
   ]
  },
  {
   "cell_type": "code",
   "execution_count": null,
   "metadata": {},
   "outputs": [],
   "source": [
    "help(ridge.fit(x_train,y_train))"
   ]
  },
  {
   "cell_type": "code",
   "execution_count": null,
   "metadata": {},
   "outputs": [],
   "source": [
    "ridge.fit(x_train,y_train)"
   ]
  },
  {
   "cell_type": "code",
   "execution_count": null,
   "metadata": {},
   "outputs": [],
   "source": [
    "test_pred=ridge.predict(ld_test)\n",
    "\n",
    "ridge.intercept_\n"
   ]
  },
  {
   "cell_type": "markdown",
   "metadata": {},
   "source": [
    "# Lasso Regression"
   ]
  },
  {
   "cell_type": "code",
   "execution_count": null,
   "metadata": {},
   "outputs": [],
   "source": [
    "lambdas=np.linspace(0.001,2,100)"
   ]
  },
  {
   "cell_type": "code",
   "execution_count": null,
   "metadata": {},
   "outputs": [],
   "source": [
    "ld_train.reset_index(inplace=True,drop=True)"
   ]
  },
  {
   "cell_type": "code",
   "execution_count": null,
   "metadata": {},
   "outputs": [],
   "source": [
    "x_train=ld_train.drop(['Interest.Rate'],axis=1)\n",
    "y_train=ld_train['Interest.Rate']"
   ]
  },
  {
   "cell_type": "code",
   "execution_count": null,
   "metadata": {},
   "outputs": [],
   "source": [
    "mae_list=[]\n",
    "for a in lambdas:\n",
    "    lasso=Lasso(fit_intercept=True,alpha=a)\n",
    "    kf=KFold(n_splits=10)\n",
    "    xval_err=0\n",
    "    for train,test in kf.split(x_train):\n",
    "        lasso.fit(x_train.loc[train],y_train[train])\n",
    "        p=lasso.predict(y_train[test])\n",
    "        xval_err+=mean_absolute_error(y_train[test],p)\n",
    "    \n",
    "    mae_10cv=xval_err/10\n",
    "    print(a,':',mae_10cv)\n",
    "    mae_list.extend([mae_10cv])\n",
    "        "
   ]
  },
  {
   "cell_type": "code",
   "execution_count": null,
   "metadata": {},
   "outputs": [],
   "source": [
    "best_alpha=lambdas[mae_list=min(mae_list)]\n",
    "print('Apha with min 10 cv error is',best_alpha)"
   ]
  },
  {
   "cell_type": "code",
   "execution_count": null,
   "metadata": {},
   "outputs": [],
   "source": [
    "lasso=Lasso(fit_intercept=True,a=best_alpha)\n",
    "lasso.fit(x_train,y_train)\n"
   ]
  },
  {
   "cell_type": "code",
   "execution_count": null,
   "metadata": {},
   "outputs": [],
   "source": [
    "mae_list=[]\n",
    "\n",
    "for a in lambdas:\n",
    "    lasso=Lasso(fit_intercept=True,alpha=a)\n",
    "    kf=KFold(n_splits=10)\n",
    "    xval_err=0\n",
    "    for train,test in kf.split(x_train):\n",
    "        lasso.fit(x_train.loc[train],y_train[train])\n",
    "        p=lasso.predict(x_train.loc[test])\n",
    "        xval_err+=mean_absolute_error(y_train[test],p)\n",
    "        \n",
    "    mae_10cv=xval_err/10\n",
    "    print(a,':',mae_10cv)\n",
    "    mae_list.extend([mae_10cv])\n",
    "\n",
    "best_alpha=lambdas[mae_list==min(mae_list)]\n",
    "print('Alpha with min 10cv error',best_alpha)\n",
    "\n",
    "\n",
    "    \n",
    "    \n",
    "        "
   ]
  }
 ],
 "metadata": {
  "kernelspec": {
   "display_name": "Python 3",
   "language": "python",
   "name": "python3"
  },
  "language_info": {
   "codemirror_mode": {
    "name": "ipython",
    "version": 3
   },
   "file_extension": ".py",
   "mimetype": "text/x-python",
   "name": "python",
   "nbconvert_exporter": "python",
   "pygments_lexer": "ipython3",
   "version": "3.6.4"
  }
 },
 "nbformat": 4,
 "nbformat_minor": 2
}
