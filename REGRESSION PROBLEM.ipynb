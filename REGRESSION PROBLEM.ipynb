{
 "cells": [
  {
   "cell_type": "code",
   "execution_count": 3,
   "metadata": {},
   "outputs": [],
   "source": [
    "import pandas as pd\n",
    "import numpy as np\n"
   ]
  },
  {
   "cell_type": "code",
   "execution_count": 131,
   "metadata": {},
   "outputs": [],
   "source": [
    "file=r'/Users/Dell/Documents/loans data.csv'"
   ]
  },
  {
   "cell_type": "code",
   "execution_count": 132,
   "metadata": {},
   "outputs": [
    {
     "data": {
      "text/html": [
       "<div>\n",
       "<style scoped>\n",
       "    .dataframe tbody tr th:only-of-type {\n",
       "        vertical-align: middle;\n",
       "    }\n",
       "\n",
       "    .dataframe tbody tr th {\n",
       "        vertical-align: top;\n",
       "    }\n",
       "\n",
       "    .dataframe thead th {\n",
       "        text-align: right;\n",
       "    }\n",
       "</style>\n",
       "<table border=\"1\" class=\"dataframe\">\n",
       "  <thead>\n",
       "    <tr style=\"text-align: right;\">\n",
       "      <th></th>\n",
       "      <th>ID</th>\n",
       "      <th>Amount.Requested</th>\n",
       "      <th>Amount.Funded.By.Investors</th>\n",
       "      <th>Interest.Rate</th>\n",
       "      <th>Loan.Length</th>\n",
       "      <th>Loan.Purpose</th>\n",
       "      <th>Debt.To.Income.Ratio</th>\n",
       "      <th>State</th>\n",
       "      <th>Home.Ownership</th>\n",
       "      <th>Monthly.Income</th>\n",
       "      <th>FICO.Range</th>\n",
       "      <th>Open.CREDIT.Lines</th>\n",
       "      <th>Revolving.CREDIT.Balance</th>\n",
       "      <th>Inquiries.in.the.Last.6.Months</th>\n",
       "      <th>Employment.Length</th>\n",
       "    </tr>\n",
       "  </thead>\n",
       "  <tbody>\n",
       "    <tr>\n",
       "      <th>0</th>\n",
       "      <td>81174.0</td>\n",
       "      <td>20000</td>\n",
       "      <td>20000</td>\n",
       "      <td>8.90%</td>\n",
       "      <td>36 months</td>\n",
       "      <td>debt_consolidation</td>\n",
       "      <td>14.90%</td>\n",
       "      <td>SC</td>\n",
       "      <td>MORTGAGE</td>\n",
       "      <td>6541.67</td>\n",
       "      <td>735-739</td>\n",
       "      <td>14</td>\n",
       "      <td>14272</td>\n",
       "      <td>2.0</td>\n",
       "      <td>&lt; 1 year</td>\n",
       "    </tr>\n",
       "    <tr>\n",
       "      <th>1</th>\n",
       "      <td>99592.0</td>\n",
       "      <td>19200</td>\n",
       "      <td>19200</td>\n",
       "      <td>12.12%</td>\n",
       "      <td>36 months</td>\n",
       "      <td>debt_consolidation</td>\n",
       "      <td>28.36%</td>\n",
       "      <td>TX</td>\n",
       "      <td>MORTGAGE</td>\n",
       "      <td>4583.33</td>\n",
       "      <td>715-719</td>\n",
       "      <td>12</td>\n",
       "      <td>11140</td>\n",
       "      <td>1.0</td>\n",
       "      <td>2 years</td>\n",
       "    </tr>\n",
       "    <tr>\n",
       "      <th>2</th>\n",
       "      <td>80059.0</td>\n",
       "      <td>35000</td>\n",
       "      <td>35000</td>\n",
       "      <td>21.98%</td>\n",
       "      <td>60 months</td>\n",
       "      <td>debt_consolidation</td>\n",
       "      <td>23.81%</td>\n",
       "      <td>CA</td>\n",
       "      <td>MORTGAGE</td>\n",
       "      <td>11500.00</td>\n",
       "      <td>690-694</td>\n",
       "      <td>14</td>\n",
       "      <td>21977</td>\n",
       "      <td>1.0</td>\n",
       "      <td>2 years</td>\n",
       "    </tr>\n",
       "    <tr>\n",
       "      <th>3</th>\n",
       "      <td>15825.0</td>\n",
       "      <td>10000</td>\n",
       "      <td>9975</td>\n",
       "      <td>9.99%</td>\n",
       "      <td>36 months</td>\n",
       "      <td>debt_consolidation</td>\n",
       "      <td>14.30%</td>\n",
       "      <td>KS</td>\n",
       "      <td>MORTGAGE</td>\n",
       "      <td>3833.33</td>\n",
       "      <td>695-699</td>\n",
       "      <td>10</td>\n",
       "      <td>9346</td>\n",
       "      <td>0.0</td>\n",
       "      <td>5 years</td>\n",
       "    </tr>\n",
       "    <tr>\n",
       "      <th>4</th>\n",
       "      <td>33182.0</td>\n",
       "      <td>12000</td>\n",
       "      <td>12000</td>\n",
       "      <td>11.71%</td>\n",
       "      <td>36 months</td>\n",
       "      <td>credit_card</td>\n",
       "      <td>18.78%</td>\n",
       "      <td>NJ</td>\n",
       "      <td>RENT</td>\n",
       "      <td>3195.00</td>\n",
       "      <td>695-699</td>\n",
       "      <td>11</td>\n",
       "      <td>14469</td>\n",
       "      <td>0.0</td>\n",
       "      <td>9 years</td>\n",
       "    </tr>\n",
       "    <tr>\n",
       "      <th>5</th>\n",
       "      <td>62403.0</td>\n",
       "      <td>6000</td>\n",
       "      <td>6000</td>\n",
       "      <td>15.31%</td>\n",
       "      <td>36 months</td>\n",
       "      <td>other</td>\n",
       "      <td>20.05%</td>\n",
       "      <td>CT</td>\n",
       "      <td>OWN</td>\n",
       "      <td>4891.67</td>\n",
       "      <td>670-674</td>\n",
       "      <td>17</td>\n",
       "      <td>10391</td>\n",
       "      <td>2.0</td>\n",
       "      <td>3 years</td>\n",
       "    </tr>\n",
       "  </tbody>\n",
       "</table>\n",
       "</div>"
      ],
      "text/plain": [
       "        ID Amount.Requested Amount.Funded.By.Investors Interest.Rate  \\\n",
       "0  81174.0            20000                      20000         8.90%   \n",
       "1  99592.0            19200                      19200        12.12%   \n",
       "2  80059.0            35000                      35000        21.98%   \n",
       "3  15825.0            10000                       9975         9.99%   \n",
       "4  33182.0            12000                      12000        11.71%   \n",
       "5  62403.0             6000                       6000        15.31%   \n",
       "\n",
       "  Loan.Length        Loan.Purpose Debt.To.Income.Ratio State Home.Ownership  \\\n",
       "0   36 months  debt_consolidation               14.90%    SC       MORTGAGE   \n",
       "1   36 months  debt_consolidation               28.36%    TX       MORTGAGE   \n",
       "2   60 months  debt_consolidation               23.81%    CA       MORTGAGE   \n",
       "3   36 months  debt_consolidation               14.30%    KS       MORTGAGE   \n",
       "4   36 months         credit_card               18.78%    NJ           RENT   \n",
       "5   36 months               other               20.05%    CT            OWN   \n",
       "\n",
       "   Monthly.Income FICO.Range Open.CREDIT.Lines Revolving.CREDIT.Balance  \\\n",
       "0         6541.67    735-739                14                    14272   \n",
       "1         4583.33    715-719                12                    11140   \n",
       "2        11500.00    690-694                14                    21977   \n",
       "3         3833.33    695-699                10                     9346   \n",
       "4         3195.00    695-699                11                    14469   \n",
       "5         4891.67    670-674                17                    10391   \n",
       "\n",
       "   Inquiries.in.the.Last.6.Months Employment.Length  \n",
       "0                             2.0          < 1 year  \n",
       "1                             1.0           2 years  \n",
       "2                             1.0           2 years  \n",
       "3                             0.0           5 years  \n",
       "4                             0.0           9 years  \n",
       "5                             2.0           3 years  "
      ]
     },
     "execution_count": 132,
     "metadata": {},
     "output_type": "execute_result"
    }
   ],
   "source": [
    "ld=pd.read_csv(file)\n",
    "ld.head(6)\n"
   ]
  },
  {
   "cell_type": "code",
   "execution_count": 133,
   "metadata": {},
   "outputs": [
    {
     "data": {
      "text/plain": [
       "ID                                float64\n",
       "Amount.Requested                   object\n",
       "Amount.Funded.By.Investors         object\n",
       "Interest.Rate                      object\n",
       "Loan.Length                        object\n",
       "Loan.Purpose                       object\n",
       "Debt.To.Income.Ratio               object\n",
       "State                              object\n",
       "Home.Ownership                     object\n",
       "Monthly.Income                    float64\n",
       "FICO.Range                         object\n",
       "Open.CREDIT.Lines                  object\n",
       "Revolving.CREDIT.Balance           object\n",
       "Inquiries.in.the.Last.6.Months    float64\n",
       "Employment.Length                  object\n",
       "dtype: object"
      ]
     },
     "execution_count": 133,
     "metadata": {},
     "output_type": "execute_result"
    }
   ],
   "source": [
    "ld.dtypes"
   ]
  },
  {
   "cell_type": "code",
   "execution_count": 134,
   "metadata": {},
   "outputs": [],
   "source": [
    "ld.drop(['ID','Amount.Funded.By.Investors'],axis=1,inplace=True)\n"
   ]
  },
  {
   "cell_type": "code",
   "execution_count": 135,
   "metadata": {},
   "outputs": [],
   "source": [
    "for col in ['Interest.Rate','Debt.To.Income.Ratio']:\n",
    "    ld[col]=ld[col].str.replace('%','')"
   ]
  },
  {
   "cell_type": "code",
   "execution_count": 136,
   "metadata": {},
   "outputs": [
    {
     "name": "stdout",
     "output_type": "stream",
     "text": [
      "Index(['Amount.Requested', 'Interest.Rate', 'Loan.Length', 'Loan.Purpose',\n",
      "       'Debt.To.Income.Ratio', 'State', 'Home.Ownership', 'FICO.Range',\n",
      "       'Open.CREDIT.Lines', 'Revolving.CREDIT.Balance', 'Employment.Length'],\n",
      "      dtype='object')\n"
     ]
    },
    {
     "data": {
      "text/html": [
       "<div>\n",
       "<style scoped>\n",
       "    .dataframe tbody tr th:only-of-type {\n",
       "        vertical-align: middle;\n",
       "    }\n",
       "\n",
       "    .dataframe tbody tr th {\n",
       "        vertical-align: top;\n",
       "    }\n",
       "\n",
       "    .dataframe thead th {\n",
       "        text-align: right;\n",
       "    }\n",
       "</style>\n",
       "<table border=\"1\" class=\"dataframe\">\n",
       "  <thead>\n",
       "    <tr style=\"text-align: right;\">\n",
       "      <th></th>\n",
       "      <th>Amount.Requested</th>\n",
       "      <th>Interest.Rate</th>\n",
       "      <th>Loan.Length</th>\n",
       "      <th>Loan.Purpose</th>\n",
       "      <th>Debt.To.Income.Ratio</th>\n",
       "      <th>State</th>\n",
       "      <th>Home.Ownership</th>\n",
       "      <th>Monthly.Income</th>\n",
       "      <th>FICO.Range</th>\n",
       "      <th>Open.CREDIT.Lines</th>\n",
       "      <th>Revolving.CREDIT.Balance</th>\n",
       "      <th>Inquiries.in.the.Last.6.Months</th>\n",
       "      <th>Employment.Length</th>\n",
       "    </tr>\n",
       "  </thead>\n",
       "  <tbody>\n",
       "    <tr>\n",
       "      <th>0</th>\n",
       "      <td>20000</td>\n",
       "      <td>8.90</td>\n",
       "      <td>36 months</td>\n",
       "      <td>debt_consolidation</td>\n",
       "      <td>14.90</td>\n",
       "      <td>SC</td>\n",
       "      <td>MORTGAGE</td>\n",
       "      <td>6541.67</td>\n",
       "      <td>735-739</td>\n",
       "      <td>14</td>\n",
       "      <td>14272</td>\n",
       "      <td>2.0</td>\n",
       "      <td>&lt; 1 year</td>\n",
       "    </tr>\n",
       "    <tr>\n",
       "      <th>1</th>\n",
       "      <td>19200</td>\n",
       "      <td>12.12</td>\n",
       "      <td>36 months</td>\n",
       "      <td>debt_consolidation</td>\n",
       "      <td>28.36</td>\n",
       "      <td>TX</td>\n",
       "      <td>MORTGAGE</td>\n",
       "      <td>4583.33</td>\n",
       "      <td>715-719</td>\n",
       "      <td>12</td>\n",
       "      <td>11140</td>\n",
       "      <td>1.0</td>\n",
       "      <td>2 years</td>\n",
       "    </tr>\n",
       "    <tr>\n",
       "      <th>2</th>\n",
       "      <td>35000</td>\n",
       "      <td>21.98</td>\n",
       "      <td>60 months</td>\n",
       "      <td>debt_consolidation</td>\n",
       "      <td>23.81</td>\n",
       "      <td>CA</td>\n",
       "      <td>MORTGAGE</td>\n",
       "      <td>11500.00</td>\n",
       "      <td>690-694</td>\n",
       "      <td>14</td>\n",
       "      <td>21977</td>\n",
       "      <td>1.0</td>\n",
       "      <td>2 years</td>\n",
       "    </tr>\n",
       "    <tr>\n",
       "      <th>3</th>\n",
       "      <td>10000</td>\n",
       "      <td>9.99</td>\n",
       "      <td>36 months</td>\n",
       "      <td>debt_consolidation</td>\n",
       "      <td>14.30</td>\n",
       "      <td>KS</td>\n",
       "      <td>MORTGAGE</td>\n",
       "      <td>3833.33</td>\n",
       "      <td>695-699</td>\n",
       "      <td>10</td>\n",
       "      <td>9346</td>\n",
       "      <td>0.0</td>\n",
       "      <td>5 years</td>\n",
       "    </tr>\n",
       "    <tr>\n",
       "      <th>4</th>\n",
       "      <td>12000</td>\n",
       "      <td>11.71</td>\n",
       "      <td>36 months</td>\n",
       "      <td>credit_card</td>\n",
       "      <td>18.78</td>\n",
       "      <td>NJ</td>\n",
       "      <td>RENT</td>\n",
       "      <td>3195.00</td>\n",
       "      <td>695-699</td>\n",
       "      <td>11</td>\n",
       "      <td>14469</td>\n",
       "      <td>0.0</td>\n",
       "      <td>9 years</td>\n",
       "    </tr>\n",
       "  </tbody>\n",
       "</table>\n",
       "</div>"
      ],
      "text/plain": [
       "  Amount.Requested Interest.Rate Loan.Length        Loan.Purpose  \\\n",
       "0            20000          8.90   36 months  debt_consolidation   \n",
       "1            19200         12.12   36 months  debt_consolidation   \n",
       "2            35000         21.98   60 months  debt_consolidation   \n",
       "3            10000          9.99   36 months  debt_consolidation   \n",
       "4            12000         11.71   36 months         credit_card   \n",
       "\n",
       "  Debt.To.Income.Ratio State Home.Ownership  Monthly.Income FICO.Range  \\\n",
       "0                14.90    SC       MORTGAGE         6541.67    735-739   \n",
       "1                28.36    TX       MORTGAGE         4583.33    715-719   \n",
       "2                23.81    CA       MORTGAGE        11500.00    690-694   \n",
       "3                14.30    KS       MORTGAGE         3833.33    695-699   \n",
       "4                18.78    NJ           RENT         3195.00    695-699   \n",
       "\n",
       "  Open.CREDIT.Lines Revolving.CREDIT.Balance  Inquiries.in.the.Last.6.Months  \\\n",
       "0                14                    14272                             2.0   \n",
       "1                12                    11140                             1.0   \n",
       "2                14                    21977                             1.0   \n",
       "3                10                     9346                             0.0   \n",
       "4                11                    14469                             0.0   \n",
       "\n",
       "  Employment.Length  \n",
       "0          < 1 year  \n",
       "1           2 years  \n",
       "2           2 years  \n",
       "3           5 years  \n",
       "4           9 years  "
      ]
     },
     "execution_count": 136,
     "metadata": {},
     "output_type": "execute_result"
    }
   ],
   "source": [
    "print(ld.select_dtypes(['object']).columns)\n",
    "ld.head()\n"
   ]
  },
  {
   "cell_type": "code",
   "execution_count": 137,
   "metadata": {},
   "outputs": [],
   "source": [
    "for col in ['Amount.Requested','Interest.Rate','Debt.To.Income.Ratio','Open.CREDIT.Lines','Revolving.CREDIT.Balance']:\n",
    "    ld[col]=pd.to_numeric(ld[col],errors='coerce')"
   ]
  },
  {
   "cell_type": "code",
   "execution_count": 138,
   "metadata": {},
   "outputs": [
    {
     "data": {
      "text/plain": [
       "0       737.0\n",
       "1       717.0\n",
       "2       692.0\n",
       "3       697.0\n",
       "4       697.0\n",
       "5       672.0\n",
       "6       722.0\n",
       "7       707.0\n",
       "8       687.0\n",
       "9       717.0\n",
       "10      672.0\n",
       "11      667.0\n",
       "12      672.0\n",
       "13      737.0\n",
       "14      727.0\n",
       "15      732.0\n",
       "16      697.0\n",
       "17      742.0\n",
       "18      732.0\n",
       "19      762.0\n",
       "20      667.0\n",
       "21      697.0\n",
       "22      667.0\n",
       "23      697.0\n",
       "24      672.0\n",
       "25      707.0\n",
       "26      677.0\n",
       "27      677.0\n",
       "28      767.0\n",
       "29      762.0\n",
       "        ...  \n",
       "2470    667.0\n",
       "2471    772.0\n",
       "2472    687.0\n",
       "2473    652.0\n",
       "2474    662.0\n",
       "2475    677.0\n",
       "2476    677.0\n",
       "2477    732.0\n",
       "2478    727.0\n",
       "2479    682.0\n",
       "2480    762.0\n",
       "2481    812.0\n",
       "2482    722.0\n",
       "2483    677.0\n",
       "2484    692.0\n",
       "2485    767.0\n",
       "2486    667.0\n",
       "2487    662.0\n",
       "2488    687.0\n",
       "2489    672.0\n",
       "2490    712.0\n",
       "2491    722.0\n",
       "2492    712.0\n",
       "2493    677.0\n",
       "2494    687.0\n",
       "2495    707.0\n",
       "2496    742.0\n",
       "2497    682.0\n",
       "2498    677.0\n",
       "2499    672.0\n",
       "Name: fico, Length: 2500, dtype: float64"
      ]
     },
     "execution_count": 138,
     "metadata": {},
     "output_type": "execute_result"
    }
   ],
   "source": [
    "k=ld['FICO.Range'].str.split('-',expand=True).astype(int)\n",
    "ld['fico']=0.5*(k[0]+k[1])\n",
    "ld['fico']\n"
   ]
  },
  {
   "cell_type": "code",
   "execution_count": 139,
   "metadata": {},
   "outputs": [],
   "source": [
    "del ld['FICO.Range']"
   ]
  },
  {
   "cell_type": "code",
   "execution_count": 140,
   "metadata": {},
   "outputs": [
    {
     "data": {
      "text/plain": [
       "Amount.Requested                  float64\n",
       "Interest.Rate                     float64\n",
       "Loan.Length                        object\n",
       "Loan.Purpose                       object\n",
       "Debt.To.Income.Ratio              float64\n",
       "State                              object\n",
       "Home.Ownership                     object\n",
       "Monthly.Income                    float64\n",
       "Open.CREDIT.Lines                 float64\n",
       "Revolving.CREDIT.Balance          float64\n",
       "Inquiries.in.the.Last.6.Months    float64\n",
       "Employment.Length                  object\n",
       "fico                              float64\n",
       "dtype: object"
      ]
     },
     "execution_count": 140,
     "metadata": {},
     "output_type": "execute_result"
    }
   ],
   "source": [
    "ld.dtypes"
   ]
  },
  {
   "cell_type": "code",
   "execution_count": 142,
   "metadata": {},
   "outputs": [],
   "source": [
    "ld['Employment.Length']=ld['Employment.Length'].str.replace('years',\"\")\n",
    "\n",
    "ld['Employment.Length']=ld['Employment.Length'].str.replace('year',\"\")\n",
    "\n",
    "ld['Employment.Length']=np.where(ld['Employment.Length'].str[:2]==\"10\",10,ld['Employment.Length'])\n",
    "\n",
    "ld['Employment.Length']=np.where(ld['Employment.Length'].str[0]==\"<\",0,ld['Employment.Length'])\n",
    "\n",
    "ld['Employment.Length']=pd.to_numeric(ld['Employment.Length'],errors='coerce')"
   ]
  },
  {
   "cell_type": "code",
   "execution_count": 143,
   "metadata": {},
   "outputs": [
    {
     "data": {
      "text/plain": [
       "Amount.Requested                  float64\n",
       "Interest.Rate                     float64\n",
       "Loan.Length                        object\n",
       "Loan.Purpose                       object\n",
       "Debt.To.Income.Ratio              float64\n",
       "State                              object\n",
       "Home.Ownership                     object\n",
       "Monthly.Income                    float64\n",
       "Open.CREDIT.Lines                 float64\n",
       "Revolving.CREDIT.Balance          float64\n",
       "Inquiries.in.the.Last.6.Months    float64\n",
       "Employment.Length                 float64\n",
       "fico                              float64\n",
       "dtype: object"
      ]
     },
     "execution_count": 143,
     "metadata": {},
     "output_type": "execute_result"
    }
   ],
   "source": [
    "ld.dtypes"
   ]
  },
  {
   "cell_type": "code",
   "execution_count": 144,
   "metadata": {},
   "outputs": [
    {
     "data": {
      "text/plain": [
       "Index(['Loan.Length', 'Loan.Purpose', 'State', 'Home.Ownership'], dtype='object')"
      ]
     },
     "execution_count": 144,
     "metadata": {},
     "output_type": "execute_result"
    }
   ],
   "source": [
    "cat_cols=ld.select_dtypes(['object']).columns\n",
    "cat_cols"
   ]
  },
  {
   "cell_type": "code",
   "execution_count": 146,
   "metadata": {},
   "outputs": [
    {
     "name": "stdout",
     "output_type": "stream",
     "text": [
      "Loan.Length\n",
      "Loan.Purpose\n",
      "State\n",
      "Home.Ownership\n"
     ]
    }
   ],
   "source": [
    "for col in cat_cols:\n",
    "    freqs=ld[col].value_counts()\n",
    "    k=freqs.index[freqs>20][:-1]\n",
    "    for cat in k:\n",
    "        name=col+'_'+cat\n",
    "        ld[name]=(ld[col]==cat).astype(int)\n",
    "    del ld[col]\n",
    "    print(col)"
   ]
  },
  {
   "cell_type": "code",
   "execution_count": 147,
   "metadata": {},
   "outputs": [
    {
     "data": {
      "text/plain": [
       "(2500, 50)"
      ]
     },
     "execution_count": 147,
     "metadata": {},
     "output_type": "execute_result"
    }
   ],
   "source": [
    "ld.shape"
   ]
  },
  {
   "cell_type": "code",
   "execution_count": 149,
   "metadata": {},
   "outputs": [],
   "source": [
    "from sklearn.model_selection import train_test_split\n"
   ]
  },
  {
   "cell_type": "code",
   "execution_count": 150,
   "metadata": {},
   "outputs": [],
   "source": [
    "ld_train,ld_test=train_test_split(ld,test_size=0.2,random_state=2)"
   ]
  },
  {
   "cell_type": "code",
   "execution_count": 151,
   "metadata": {},
   "outputs": [
    {
     "data": {
      "text/plain": [
       "Amount.Requested                    5\n",
       "Interest.Rate                       0\n",
       "Debt.To.Income.Ratio                1\n",
       "Monthly.Income                      3\n",
       "Open.CREDIT.Lines                   7\n",
       "Revolving.CREDIT.Balance            4\n",
       "Inquiries.in.the.Last.6.Months      3\n",
       "Employment.Length                  68\n",
       "fico                                0\n",
       "Loan.Length_36 months               0\n",
       "Loan.Purpose_debt_consolidation     0\n",
       "Loan.Purpose_credit_card            0\n",
       "Loan.Purpose_other                  0\n",
       "Loan.Purpose_home_improvement       0\n",
       "Loan.Purpose_major_purchase         0\n",
       "Loan.Purpose_small_business         0\n",
       "Loan.Purpose_car                    0\n",
       "Loan.Purpose_wedding                0\n",
       "Loan.Purpose_medical                0\n",
       "Loan.Purpose_moving                 0\n",
       "State_CA                            0\n",
       "State_NY                            0\n",
       "State_TX                            0\n",
       "State_FL                            0\n",
       "State_IL                            0\n",
       "State_GA                            0\n",
       "State_PA                            0\n",
       "State_NJ                            0\n",
       "State_VA                            0\n",
       "State_MA                            0\n",
       "State_OH                            0\n",
       "State_MD                            0\n",
       "State_NC                            0\n",
       "State_CO                            0\n",
       "State_WA                            0\n",
       "State_CT                            0\n",
       "State_AZ                            0\n",
       "State_MI                            0\n",
       "State_AL                            0\n",
       "State_MN                            0\n",
       "State_MO                            0\n",
       "State_NV                            0\n",
       "State_OR                            0\n",
       "State_SC                            0\n",
       "State_WI                            0\n",
       "State_KY                            0\n",
       "State_LA                            0\n",
       "State_KS                            0\n",
       "Home.Ownership_MORTGAGE             0\n",
       "Home.Ownership_RENT                 0\n",
       "dtype: int64"
      ]
     },
     "execution_count": 151,
     "metadata": {},
     "output_type": "execute_result"
    }
   ],
   "source": [
    "ld_train.isnull().sum()"
   ]
  },
  {
   "cell_type": "code",
   "execution_count": 170,
   "metadata": {},
   "outputs": [],
   "source": [
    "from sklearn.model_selection import train_test_split"
   ]
  },
  {
   "cell_type": "code",
   "execution_count": 176,
   "metadata": {},
   "outputs": [],
   "source": [
    "ld_train1,ld_train2=train_test_split(ld_train,test_size=0.2,random_state=2)"
   ]
  },
  {
   "cell_type": "code",
   "execution_count": 181,
   "metadata": {},
   "outputs": [],
   "source": [
    "x_train1=ld_train1.drop(['Interest.Rate'],axis=1)\n",
    "y_train1=ld_train1['Interest.Rate']"
   ]
  },
  {
   "cell_type": "code",
   "execution_count": 182,
   "metadata": {},
   "outputs": [],
   "source": [
    "from sklearn.linear_model import LinearRegression"
   ]
  },
  {
   "cell_type": "code",
   "execution_count": 183,
   "metadata": {},
   "outputs": [],
   "source": [
    "lm=LinearRegression()"
   ]
  },
  {
   "cell_type": "code",
   "execution_count": 184,
   "metadata": {},
   "outputs": [
    {
     "data": {
      "text/plain": [
       "LinearRegression(copy_X=True, fit_intercept=True, n_jobs=1, normalize=False)"
      ]
     },
     "execution_count": 184,
     "metadata": {},
     "output_type": "execute_result"
    }
   ],
   "source": [
    "lm.fit(x_train1,y_train1)"
   ]
  },
  {
   "cell_type": "code",
   "execution_count": 185,
   "metadata": {},
   "outputs": [],
   "source": [
    "x_train2=ld_train2.drop(['Interest.Rate'],axis=1)"
   ]
  },
  {
   "cell_type": "code",
   "execution_count": 189,
   "metadata": {},
   "outputs": [],
   "source": [
    "predict_val=lm.predict(x_train2)\n"
   ]
  },
  {
   "cell_type": "code",
   "execution_count": 190,
   "metadata": {},
   "outputs": [],
   "source": [
    "from sklearn.metrics import mean_absolute_error"
   ]
  },
  {
   "cell_type": "code",
   "execution_count": 191,
   "metadata": {},
   "outputs": [
    {
     "data": {
      "text/plain": [
       "1.6034624131664017"
      ]
     },
     "execution_count": 191,
     "metadata": {},
     "output_type": "execute_result"
    }
   ],
   "source": [
    "mean_absolute_error(ld_train2['Interest.Rate'],predict_val)"
   ]
  },
  {
   "cell_type": "code",
   "execution_count": null,
   "metadata": {},
   "outputs": [],
   "source": [
    "x_train=ld_train.drop(['Interest.Rate'],axis=1)\n",
    "y_train=ld_train['Interest.Rate']\n",
    "pd.DataFrame(test_pred).to_csv"
   ]
  },
  {
   "cell_type": "code",
   "execution_count": 153,
   "metadata": {},
   "outputs": [
    {
     "name": "stderr",
     "output_type": "stream",
     "text": [
      "C:\\Users\\Dell\\Anaconda3\\lib\\site-packages\\pandas\\core\\indexing.py:537: SettingWithCopyWarning: \n",
      "A value is trying to be set on a copy of a slice from a DataFrame.\n",
      "Try using .loc[row_indexer,col_indexer] = value instead\n",
      "\n",
      "See the caveats in the documentation: http://pandas.pydata.org/pandas-docs/stable/indexing.html#indexing-view-versus-copy\n",
      "  self.obj[item] = s\n"
     ]
    }
   ],
   "source": [
    "for col in ld_train.columns:\n",
    "    if ld_train[col].isnull().sum()>0:\n",
    "        ld_train.loc[ld_train[col].isnull(),col]=ld_train[col].mean()\n",
    "    "
   ]
  },
  {
   "cell_type": "code",
   "execution_count": 154,
   "metadata": {},
   "outputs": [
    {
     "name": "stderr",
     "output_type": "stream",
     "text": [
      "C:\\Users\\Dell\\Anaconda3\\lib\\site-packages\\pandas\\core\\indexing.py:537: SettingWithCopyWarning: \n",
      "A value is trying to be set on a copy of a slice from a DataFrame.\n",
      "Try using .loc[row_indexer,col_indexer] = value instead\n",
      "\n",
      "See the caveats in the documentation: http://pandas.pydata.org/pandas-docs/stable/indexing.html#indexing-view-versus-copy\n",
      "  self.obj[item] = s\n"
     ]
    }
   ],
   "source": [
    "for col in ld_test.columns:\n",
    "    if ld_test[col].isnull().sum()>0:\n",
    "        ld_test.loc[ld_test[col].isnull(),col]=ld_train[col].mean()"
   ]
  },
  {
   "cell_type": "code",
   "execution_count": 155,
   "metadata": {},
   "outputs": [],
   "source": [
    "x_train=ld_train.drop('Interest.Rate',axis=1)\n",
    "y_train=ld_train['Interest.Rate']"
   ]
  },
  {
   "cell_type": "code",
   "execution_count": 157,
   "metadata": {},
   "outputs": [],
   "source": [
    "from sklearn.linear_model import LinearRegression"
   ]
  },
  {
   "cell_type": "code",
   "execution_count": 158,
   "metadata": {},
   "outputs": [],
   "source": [
    "lm=LinearRegression()"
   ]
  },
  {
   "cell_type": "code",
   "execution_count": 159,
   "metadata": {},
   "outputs": [
    {
     "data": {
      "text/plain": [
       "LinearRegression(copy_X=True, fit_intercept=True, n_jobs=1, normalize=False)"
      ]
     },
     "execution_count": 159,
     "metadata": {},
     "output_type": "execute_result"
    }
   ],
   "source": [
    "lm.fit(x_train,y_train)"
   ]
  },
  {
   "cell_type": "code",
   "execution_count": 160,
   "metadata": {},
   "outputs": [
    {
     "data": {
      "text/plain": [
       "array([ 1.59022871e-04, -1.24634631e-03, -1.72321940e-05, -2.77642304e-02,\n",
       "       -5.53873051e-06,  3.12682325e-01,  1.66712974e-02, -8.77111454e-02,\n",
       "       -3.18942867e+00, -7.18315714e-01, -8.19144596e-01, -2.16573081e-02,\n",
       "       -8.70744563e-01, -4.73067295e-01, -7.47443174e-02, -5.30388603e-01,\n",
       "       -9.86669647e-01, -5.88345143e-01,  8.48109220e-01, -3.44000367e-01,\n",
       "       -2.87504701e-01,  3.46772783e-01, -2.38596914e-01, -6.90300204e-01,\n",
       "       -7.33276432e-02, -4.66224837e-01, -4.66453857e-01, -9.54028793e-02,\n",
       "       -2.52064436e-01,  4.50903443e-02,  7.65896752e-02, -2.58654292e-01,\n",
       "       -4.31816689e-01, -1.73865271e-01,  1.85795176e-01,  1.94899987e-01,\n",
       "       -1.31445475e-01, -1.88271246e-02,  1.49751342e-01, -3.47940488e-01,\n",
       "       -2.93480835e-01,  3.25796285e-01, -1.11971972e-01,  1.01370116e-01,\n",
       "        2.70634480e-02,  1.20125119e-01,  2.90530128e-01, -3.95869610e-01,\n",
       "       -2.30952459e-01])"
      ]
     },
     "execution_count": 160,
     "metadata": {},
     "output_type": "execute_result"
    }
   ],
   "source": [
    "lm.coef_"
   ]
  },
  {
   "cell_type": "code",
   "execution_count": 161,
   "metadata": {},
   "outputs": [
    {
     "data": {
      "text/plain": [
       "[('Amount.Requested', 0.00015902287100738507),\n",
       " ('Debt.To.Income.Ratio', -0.0012463463068504215),\n",
       " ('Monthly.Income', -1.7232194038668082e-05),\n",
       " ('Open.CREDIT.Lines', -0.027764230360475012),\n",
       " ('Revolving.CREDIT.Balance', -5.538730509568879e-06),\n",
       " ('Inquiries.in.the.Last.6.Months', 0.3126823248902676),\n",
       " ('Employment.Length', 0.01667129735496764),\n",
       " ('fico', -0.08771114538649516),\n",
       " ('Loan.Length_36 months', -3.1894286701122705),\n",
       " ('Loan.Purpose_debt_consolidation', -0.7183157144663026),\n",
       " ('Loan.Purpose_credit_card', -0.8191445962313804),\n",
       " ('Loan.Purpose_other', -0.02165730814839617),\n",
       " ('Loan.Purpose_home_improvement', -0.8707445629027333),\n",
       " ('Loan.Purpose_major_purchase', -0.47306729507051376),\n",
       " ('Loan.Purpose_small_business', -0.0747443174003901),\n",
       " ('Loan.Purpose_car', -0.5303886029961907),\n",
       " ('Loan.Purpose_wedding', -0.9866696472050147),\n",
       " ('Loan.Purpose_medical', -0.5883451427815728),\n",
       " ('Loan.Purpose_moving', 0.848109220297538),\n",
       " ('State_CA', -0.3440003668582441),\n",
       " ('State_NY', -0.287504701283933),\n",
       " ('State_TX', 0.34677278312254634),\n",
       " ('State_FL', -0.23859691376509448),\n",
       " ('State_IL', -0.6903002039328452),\n",
       " ('State_GA', -0.0733276432352008),\n",
       " ('State_PA', -0.4662248373925975),\n",
       " ('State_NJ', -0.4664538573038757),\n",
       " ('State_VA', -0.09540287932968694),\n",
       " ('State_MA', -0.2520644362461886),\n",
       " ('State_OH', 0.04509034433113662),\n",
       " ('State_MD', 0.0765896752474955),\n",
       " ('State_NC', -0.2586542922268141),\n",
       " ('State_CO', -0.43181668877592877),\n",
       " ('State_WA', -0.17386527118327863),\n",
       " ('State_CT', 0.1857951762808588),\n",
       " ('State_AZ', 0.1948999866314804),\n",
       " ('State_MI', -0.1314454750516082),\n",
       " ('State_AL', -0.018827124618966302),\n",
       " ('State_MN', 0.1497513424518086),\n",
       " ('State_MO', -0.3479404884928077),\n",
       " ('State_NV', -0.29348083507456835),\n",
       " ('State_OR', 0.32579628482237605),\n",
       " ('State_SC', -0.11197197239354614),\n",
       " ('State_WI', 0.10137011600305672),\n",
       " ('State_KY', 0.027063448039198162),\n",
       " ('State_LA', 0.1201251188902199),\n",
       " ('State_KS', 0.29053012770699826),\n",
       " ('Home.Ownership_MORTGAGE', -0.3958696100592943),\n",
       " ('Home.Ownership_RENT', -0.23095245939170667)]"
      ]
     },
     "execution_count": 161,
     "metadata": {},
     "output_type": "execute_result"
    }
   ],
   "source": [
    "list(zip(x_train.columns,lm.coef_))"
   ]
  },
  {
   "cell_type": "code",
   "execution_count": 162,
   "metadata": {},
   "outputs": [],
   "source": [
    "x_test=ld_test.drop(['Interest.Rate'],axis=1)"
   ]
  },
  {
   "cell_type": "code",
   "execution_count": 163,
   "metadata": {},
   "outputs": [],
   "source": [
    "predicted_ir=lm.predict(x_test)"
   ]
  },
  {
   "cell_type": "code",
   "execution_count": 165,
   "metadata": {},
   "outputs": [],
   "source": [
    "from sklearn.metrics import mean_absolute_error"
   ]
  },
  {
   "cell_type": "code",
   "execution_count": 166,
   "metadata": {},
   "outputs": [
    {
     "data": {
      "text/plain": [
       "1.5416374319410748"
      ]
     },
     "execution_count": 166,
     "metadata": {},
     "output_type": "execute_result"
    }
   ],
   "source": [
    "mean_absolute_error(ld_test['Interest.Rate'],predicted_ir)"
   ]
  },
  {
   "cell_type": "code",
   "execution_count": 167,
   "metadata": {},
   "outputs": [],
   "source": [
    "from sklearn.linear_model import Ridge,Lasso\n"
   ]
  },
  {
   "cell_type": "code",
   "execution_count": 168,
   "metadata": {},
   "outputs": [],
   "source": [
    "from sklearn.model_selection import KFold"
   ]
  },
  {
   "cell_type": "code",
   "execution_count": 169,
   "metadata": {},
   "outputs": [],
   "source": [
    "lambdas=np.linspace(1,100,100)"
   ]
  },
  {
   "cell_type": "markdown",
   "metadata": {},
   "source": [
    "# RIDGE REGRESSION"
   ]
  },
  {
   "cell_type": "code",
   "execution_count": 192,
   "metadata": {},
   "outputs": [],
   "source": [
    "from sklearn.linear_model import Ridge,Lasso\n",
    "from sklearn.model_selection import GridSearchCV"
   ]
  },
  {
   "cell_type": "code",
   "execution_count": 193,
   "metadata": {},
   "outputs": [],
   "source": [
    "lambdas=np.linspace(1,100,100)"
   ]
  },
  {
   "cell_type": "code",
   "execution_count": 194,
   "metadata": {},
   "outputs": [],
   "source": [
    "params={'alpha':lambdas}"
   ]
  },
  {
   "cell_type": "code",
   "execution_count": 197,
   "metadata": {},
   "outputs": [],
   "source": [
    "model=Ridge(fit_intercept=True)"
   ]
  },
  {
   "cell_type": "code",
   "execution_count": null,
   "metadata": {},
   "outputs": [],
   "source": [
    "grid_search=GridSearchCV"
   ]
  },
  {
   "cell_type": "code",
   "execution_count": 198,
   "metadata": {},
   "outputs": [],
   "source": [
    "lambdas=np.linspace(1,100,100)\n",
    "\n",
    "ld_train.reset_index(inplace=True,drop=True)\n",
    "\n",
    "x_train=ld_train.drop(['Interest.Rate'],axis=1)\n",
    "y_train=ld_train['Interest.Rate']\n"
   ]
  },
  {
   "cell_type": "code",
   "execution_count": null,
   "metadata": {},
   "outputs": [],
   "source": [
    "for a in lambdas:\n",
    "    ridge=Ridge(fit_intercept=True,alpha=a)\n",
    "    kf=KFold(n_splits=10)\n",
    "    xval_err=0\n",
    "    \n",
    "    for train,test in kf.splits(x_train):\n",
    "        ridge.fit(x_train.loc[train],y_train[train])\n",
    "        p=ridge.predict(x_train.loc[test])\n",
    "    "
   ]
  },
  {
   "cell_type": "code",
   "execution_count": null,
   "metadata": {},
   "outputs": [],
   "source": [
    "mae_list=[]\n",
    "for a in lambdas:\n",
    "    ridge=Ridge(fit_intercept=True,alpha=a)\n",
    "    kf=KFold(n_splits=10)\n",
    "    xval_err=0\n",
    "    \n",
    "    for train,test in kf.splits(x_train):\n",
    "        ridge.fit(x_train.loc[train],y_train[train])\n",
    "        P=predict(x_train.loc[test])\n",
    "        xval_err+=mean_absolute_error(y_train[test],p)\n",
    "    \n",
    "    mae_10cv=xval_err/10\n",
    "    print(a,':',mae_10cv)\n",
    "    mae_list.extend([mae_10cv])"
   ]
  }
 ],
 "metadata": {
  "kernelspec": {
   "display_name": "Python 3",
   "language": "python",
   "name": "python3"
  },
  "language_info": {
   "codemirror_mode": {
    "name": "ipython",
    "version": 3
   },
   "file_extension": ".py",
   "mimetype": "text/x-python",
   "name": "python",
   "nbconvert_exporter": "python",
   "pygments_lexer": "ipython3",
   "version": "3.6.4"
  }
 },
 "nbformat": 4,
 "nbformat_minor": 2
}
